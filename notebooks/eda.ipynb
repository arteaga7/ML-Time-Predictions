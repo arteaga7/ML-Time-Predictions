{
 "cells": [
  {
   "cell_type": "markdown",
   "id": "7fbde7b0",
   "metadata": {},
   "source": [
    "# Analisis exploratorio de los datos\n",
    "En este documento se muestra como unir las lecturas de los sensores del mes de enero. Estas lecturas se encuentran en los archivos *.parquet, las cuales se uniran en un solo archivo (factLecturas_fechaDeUnion). Tambien se hara el analisis exploratorio de las lecturas y de las tablas, estas tablas se uniran (sies posible) y seran usadas en el dashboard. "
   ]
  },
  {
   "cell_type": "markdown",
   "id": "86daee86",
   "metadata": {},
   "source": [
    "## Lectura y union de los archivos *.parquet"
   ]
  },
  {
   "cell_type": "code",
   "execution_count": 56,
   "id": "39527afa",
   "metadata": {},
   "outputs": [],
   "source": [
    "# Import libraries\n",
    "import pandas as pd\n",
    "import numpy as np\n",
    "from matplotlib import pyplot as plt\n",
    "import seaborn as sns\n",
    "from datetime import datetime, timedelta\n",
    "import os"
   ]
  },
  {
   "cell_type": "code",
   "execution_count": 57,
   "id": "560f1185",
   "metadata": {},
   "outputs": [
    {
     "name": "stdout",
     "output_type": "stream",
     "text": [
      "Total files (*.parquet) found: 7492, Total non-empty files: 5173\n"
     ]
    }
   ],
   "source": [
    "path = '../data/raw/Lecturas_Eneero_2025'\n",
    "content = os.listdir(path)\n",
    "files = []\n",
    "no_empty = []\n",
    "# Create DataFrame\n",
    "df = pd.DataFrame(\n",
    "{\n",
    "    'ReadId': [],\n",
    "    'TimeSpan': [],\n",
    "    'SensorId': [],\n",
    "    'Value': [],\n",
    "    'LocalTimeSpan': [],\n",
    "})\n",
    "\n",
    "for folder in content:\n",
    "    if folder.endswith(''):\n",
    "        path_files = os.path.join(path,folder)\n",
    "        for file in os.listdir(path_files):\n",
    "            if file.endswith('parquet'):\n",
    "                files.append(file)\n",
    "                try:\n",
    "                    df_1 = pd.read_parquet(os.path.join(path_files,file))\n",
    "                    df = pd.concat([df,df_1])\n",
    "                    no_empty.append(file)\n",
    "                except OSError:\n",
    "                    pass\n",
    "\n",
    "df = df.reset_index(drop=True)        \n",
    "print(f\"Total files (*.parquet) found: {len(files)}, Total non-empty files: {len(no_empty)}\")"
   ]
  },
  {
   "cell_type": "markdown",
   "id": "b7dc53f9",
   "metadata": {},
   "source": [
    "## Analisis exploratorio de los datos\n",
    "### Lecturas de los sensores"
   ]
  },
  {
   "cell_type": "code",
   "execution_count": 58,
   "id": "c54c3269",
   "metadata": {},
   "outputs": [
    {
     "name": "stdout",
     "output_type": "stream",
     "text": [
      "<class 'pandas.core.frame.DataFrame'>\n",
      "RangeIndex: 165411 entries, 0 to 165410\n",
      "Data columns (total 5 columns):\n",
      " #   Column         Non-Null Count   Dtype         \n",
      "---  ------         --------------   -----         \n",
      " 0   ReadId         165411 non-null  object        \n",
      " 1   TimeSpan       165411 non-null  datetime64[ns]\n",
      " 2   SensorId       165411 non-null  object        \n",
      " 3   Value          165411 non-null  float64       \n",
      " 4   LocalTimeSpan  165411 non-null  datetime64[ns]\n",
      "dtypes: datetime64[ns](2), float64(1), object(2)\n",
      "memory usage: 6.3+ MB\n"
     ]
    }
   ],
   "source": [
    "# DataFrame information\n",
    "df.info()"
   ]
  },
  {
   "cell_type": "markdown",
   "id": "62ea50fb",
   "metadata": {},
   "source": [
    "No hay valores ausentes y las columnas tienen el formato adecuado."
   ]
  },
  {
   "cell_type": "code",
   "execution_count": 59,
   "id": "694e950f",
   "metadata": {},
   "outputs": [
    {
     "data": {
      "text/html": [
       "<div>\n",
       "<style scoped>\n",
       "    .dataframe tbody tr th:only-of-type {\n",
       "        vertical-align: middle;\n",
       "    }\n",
       "\n",
       "    .dataframe tbody tr th {\n",
       "        vertical-align: top;\n",
       "    }\n",
       "\n",
       "    .dataframe thead th {\n",
       "        text-align: right;\n",
       "    }\n",
       "</style>\n",
       "<table border=\"1\" class=\"dataframe\">\n",
       "  <thead>\n",
       "    <tr style=\"text-align: right;\">\n",
       "      <th></th>\n",
       "      <th>ReadId</th>\n",
       "      <th>TimeSpan</th>\n",
       "      <th>SensorId</th>\n",
       "      <th>Value</th>\n",
       "      <th>LocalTimeSpan</th>\n",
       "    </tr>\n",
       "  </thead>\n",
       "  <tbody>\n",
       "    <tr>\n",
       "      <th>0</th>\n",
       "      <td>05543cf3-ec51-4760-a9af-8efa01a203e6</td>\n",
       "      <td>2025-01-18 13:48:44.190</td>\n",
       "      <td>063276ed-657e-40a2-a17b-0c685af518f6</td>\n",
       "      <td>31.20</td>\n",
       "      <td>2025-01-18 07:48:44.190</td>\n",
       "    </tr>\n",
       "    <tr>\n",
       "      <th>1</th>\n",
       "      <td>a3c80788-c698-41cc-835f-aedd98adb72c</td>\n",
       "      <td>2025-01-18 13:48:44.195</td>\n",
       "      <td>22f8b472-4022-41a9-b7b7-37e83a532df0</td>\n",
       "      <td>35.55</td>\n",
       "      <td>2025-01-18 07:48:44.195</td>\n",
       "    </tr>\n",
       "    <tr>\n",
       "      <th>2</th>\n",
       "      <td>4e223d79-4791-4c2a-9d88-97c8efa170bc</td>\n",
       "      <td>2025-01-18 13:48:44.199</td>\n",
       "      <td>267e3d44-9b7f-460c-b34b-603fe0fa9972</td>\n",
       "      <td>36.90</td>\n",
       "      <td>2025-01-18 07:48:44.199</td>\n",
       "    </tr>\n",
       "  </tbody>\n",
       "</table>\n",
       "</div>"
      ],
      "text/plain": [
       "                                 ReadId                TimeSpan  \\\n",
       "0  05543cf3-ec51-4760-a9af-8efa01a203e6 2025-01-18 13:48:44.190   \n",
       "1  a3c80788-c698-41cc-835f-aedd98adb72c 2025-01-18 13:48:44.195   \n",
       "2  4e223d79-4791-4c2a-9d88-97c8efa170bc 2025-01-18 13:48:44.199   \n",
       "\n",
       "                               SensorId  Value           LocalTimeSpan  \n",
       "0  063276ed-657e-40a2-a17b-0c685af518f6  31.20 2025-01-18 07:48:44.190  \n",
       "1  22f8b472-4022-41a9-b7b7-37e83a532df0  35.55 2025-01-18 07:48:44.195  \n",
       "2  267e3d44-9b7f-460c-b34b-603fe0fa9972  36.90 2025-01-18 07:48:44.199  "
      ]
     },
     "execution_count": 59,
     "metadata": {},
     "output_type": "execute_result"
    }
   ],
   "source": [
    "# Show DataFrame\n",
    "df.head(3)"
   ]
  },
  {
   "cell_type": "markdown",
   "id": "9c4d0ab7",
   "metadata": {},
   "source": [
    "Veamos cuantos valores diferentes hay en las columnas 'ReadId' y 'SensorId'."
   ]
  },
  {
   "cell_type": "code",
   "execution_count": 60,
   "metadata": {},
   "outputs": [
    {
     "name": "stdout",
     "output_type": "stream",
     "text": [
      "165407\n"
     ]
    }
   ],
   "source": [
    "# Count unique values\n",
    "print(df['ReadId'].nunique())"
   ]
  },
  {
   "cell_type": "code",
   "execution_count": 61,
   "metadata": {},
   "outputs": [
    {
     "name": "stdout",
     "output_type": "stream",
     "text": [
      "40\n"
     ]
    }
   ],
   "source": [
    "# Count unique values\n",
    "print(df['SensorId'].nunique())"
   ]
  },
  {
   "cell_type": "markdown",
   "id": "d61ee47a",
   "metadata": {},
   "source": [
    "A continuación se muestra la distribucion de los valores medidos."
   ]
  },
  {
   "cell_type": "code",
   "execution_count": 62,
   "id": "3d08401f",
   "metadata": {},
   "outputs": [
    {
     "data": {
      "image/png": "[encoded data removed]",
      "text/plain": [
       "<Figure size 400x400 with 1 Axes>"
      ]
     },
     "metadata": {},
     "output_type": "display_data"
    }
   ],
   "source": [
    "# Box plot\n",
    "df['Value'].plot(kind='box', figsize=[4,4], title='Distribution of values',\n",
    "                 ylabel='Value')\n",
    "plt.xticks(rotation=0)\n",
    "plt.show()"
   ]
  },
  {
   "cell_type": "markdown",
   "id": "c6132795",
   "metadata": {},
   "source": [
    "## Analisis exploratorio de las tablas\n",
    "Se realizara el mismo analisis mostrado en la seccion anterior. Algunas columnas se renombraran."
   ]
  },
  {
   "cell_type": "code",
   "execution_count": 63,
   "id": "f1d0d631",
   "metadata": {},
   "outputs": [
    {
     "data": {
      "text/html": [
       "<div>\n",
       "<style scoped>\n",
       "    .dataframe tbody tr th:only-of-type {\n",
       "        vertical-align: middle;\n",
       "    }\n",
       "\n",
       "    .dataframe tbody tr th {\n",
       "        vertical-align: top;\n",
       "    }\n",
       "\n",
       "    .dataframe thead th {\n",
       "        text-align: right;\n",
       "    }\n",
       "</style>\n",
       "<table border=\"1\" class=\"dataframe\">\n",
       "  <thead>\n",
       "    <tr style=\"text-align: right;\">\n",
       "      <th></th>\n",
       "      <th>CityId</th>\n",
       "      <th>StateId</th>\n",
       "      <th>Name</th>\n",
       "    </tr>\n",
       "  </thead>\n",
       "  <tbody>\n",
       "    <tr>\n",
       "      <th>0</th>\n",
       "      <td>761AC964-F254-4E4B-0865-08DC439261D4</td>\n",
       "      <td>E30541D0-B009-4D73-E19A-08DC43924EB2</td>\n",
       "      <td>Chihuahua</td>\n",
       "    </tr>\n",
       "    <tr>\n",
       "      <th>1</th>\n",
       "      <td>5A5E32BC-B4B6-4496-DD37-08DD421CD4D1</td>\n",
       "      <td>E30541D0-B009-4D73-E19A-08DC43924EB2</td>\n",
       "      <td>Juárez</td>\n",
       "    </tr>\n",
       "  </tbody>\n",
       "</table>\n",
       "</div>"
      ],
      "text/plain": [
       "                                 CityId                               StateId  \\\n",
       "0  761AC964-F254-4E4B-0865-08DC439261D4  E30541D0-B009-4D73-E19A-08DC43924EB2   \n",
       "1  5A5E32BC-B4B6-4496-DD37-08DD421CD4D1  E30541D0-B009-4D73-E19A-08DC43924EB2   \n",
       "\n",
       "        Name  \n",
       "0  Chihuahua  \n",
       "1     Juárez  "
      ]
     },
     "execution_count": 63,
     "metadata": {},
     "output_type": "execute_result"
    }
   ],
   "source": [
    "# Read DataFrame\n",
    "df_cities = pd.read_csv('../data/raw/dimCities.csv',sep=',',header=0)\n",
    "\n",
    "# Show DataFrame\n",
    "df_cities.head(2)"
   ]
  },
  {
   "cell_type": "code",
   "execution_count": 64,
   "id": "96d80196",
   "metadata": {},
   "outputs": [
    {
     "name": "stdout",
     "output_type": "stream",
     "text": [
      "<class 'pandas.core.frame.DataFrame'>\n",
      "RangeIndex: 3 entries, 0 to 2\n",
      "Data columns (total 3 columns):\n",
      " #   Column    Non-Null Count  Dtype \n",
      "---  ------    --------------  ----- \n",
      " 0   CityId    3 non-null      object\n",
      " 1   StateId   3 non-null      object\n",
      " 2   CityName  3 non-null      object\n",
      "dtypes: object(3)\n",
      "memory usage: 200.0+ bytes\n"
     ]
    }
   ],
   "source": [
    "# Rename column\n",
    "df_cities = df_cities.rename(columns={'Name':'CityName'})\n",
    "\n",
    "# DataFrame information\n",
    "df_cities.info()"
   ]
  },
  {
   "cell_type": "code",
   "execution_count": 65,
   "id": "4f811fa0",
   "metadata": {},
   "outputs": [
    {
     "data": {
      "text/html": [
       "<div>\n",
       "<style scoped>\n",
       "    .dataframe tbody tr th:only-of-type {\n",
       "        vertical-align: middle;\n",
       "    }\n",
       "\n",
       "    .dataframe tbody tr th {\n",
       "        vertical-align: top;\n",
       "    }\n",
       "\n",
       "    .dataframe thead th {\n",
       "        text-align: right;\n",
       "    }\n",
       "</style>\n",
       "<table border=\"1\" class=\"dataframe\">\n",
       "  <thead>\n",
       "    <tr style=\"text-align: right;\">\n",
       "      <th></th>\n",
       "      <th>DeviceId</th>\n",
       "      <th>DeviceTyId</th>\n",
       "      <th>SubLocationId</th>\n",
       "      <th>Name</th>\n",
       "      <th>Active</th>\n",
       "      <th>ModelId</th>\n",
       "      <th>CreatedAt</th>\n",
       "      <th>ModifiedAt</th>\n",
       "    </tr>\n",
       "  </thead>\n",
       "  <tbody>\n",
       "    <tr>\n",
       "      <th>0</th>\n",
       "      <td>9D5E9B81-70CE-4DD6-90D0-006F7DA796FA</td>\n",
       "      <td>C48A1D4F-664C-4863-2555-08DD462F6DF2</td>\n",
       "      <td>9F33CBEA-6D72-4E8A-615F-08DD5B605483</td>\n",
       "      <td>Cuarto de Congelación</td>\n",
       "      <td>1</td>\n",
       "      <td>D4E53753-7F96-4124-26BD-08DC43962801</td>\n",
       "      <td>2025-03-06 14:52:11.4632359</td>\n",
       "      <td>2025-03-06 14:52:11.4632359</td>\n",
       "    </tr>\n",
       "    <tr>\n",
       "      <th>1</th>\n",
       "      <td>ED5B45ED-142D-4B09-B7A7-0349360AEA32</td>\n",
       "      <td>0373D9FC-85A2-4324-5940-08DC84AC4EC2</td>\n",
       "      <td>8C213D36-9843-4DDC-5573-08DDDE84D8AA</td>\n",
       "      <td>Alumbrado Exterior</td>\n",
       "      <td>1</td>\n",
       "      <td>A3799BB1-C2E1-4E07-95A0-08DC84A8A9D2</td>\n",
       "      <td>2025-08-19 18:45:10.2321111</td>\n",
       "      <td>2025-08-19 18:45:10.2321111</td>\n",
       "    </tr>\n",
       "  </tbody>\n",
       "</table>\n",
       "</div>"
      ],
      "text/plain": [
       "                               DeviceId                            DeviceTyId  \\\n",
       "0  9D5E9B81-70CE-4DD6-90D0-006F7DA796FA  C48A1D4F-664C-4863-2555-08DD462F6DF2   \n",
       "1  ED5B45ED-142D-4B09-B7A7-0349360AEA32  0373D9FC-85A2-4324-5940-08DC84AC4EC2   \n",
       "\n",
       "                          SubLocationId                   Name  Active  \\\n",
       "0  9F33CBEA-6D72-4E8A-615F-08DD5B605483  Cuarto de Congelación       1   \n",
       "1  8C213D36-9843-4DDC-5573-08DDDE84D8AA     Alumbrado Exterior       1   \n",
       "\n",
       "                                ModelId                    CreatedAt  \\\n",
       "0  D4E53753-7F96-4124-26BD-08DC43962801  2025-03-06 14:52:11.4632359   \n",
       "1  A3799BB1-C2E1-4E07-95A0-08DC84A8A9D2  2025-08-19 18:45:10.2321111   \n",
       "\n",
       "                    ModifiedAt  \n",
       "0  2025-03-06 14:52:11.4632359  \n",
       "1  2025-08-19 18:45:10.2321111  "
      ]
     },
     "execution_count": 65,
     "metadata": {},
     "output_type": "execute_result"
    }
   ],
   "source": [
    "# Read DataFrame\n",
    "df_devices = pd.read_csv('../data/raw/dimDevices.csv',sep=',',header=0)\n",
    "\n",
    "# Show DataFrame\n",
    "df_devices.head(2)"
   ]
  },
  {
   "cell_type": "code",
   "execution_count": 66,
   "id": "0bb7a921",
   "metadata": {},
   "outputs": [
    {
     "name": "stdout",
     "output_type": "stream",
     "text": [
      "<class 'pandas.core.frame.DataFrame'>\n",
      "RangeIndex: 110 entries, 0 to 109\n",
      "Data columns (total 8 columns):\n",
      " #   Column         Non-Null Count  Dtype \n",
      "---  ------         --------------  ----- \n",
      " 0   DeviceId       110 non-null    object\n",
      " 1   DeviceTyId     110 non-null    object\n",
      " 2   SubLocationId  110 non-null    object\n",
      " 3   DeviceName     110 non-null    object\n",
      " 4   DeviceActive   110 non-null    int64 \n",
      " 5   ModelId        110 non-null    object\n",
      " 6   CreatedAt      110 non-null    object\n",
      " 7   ModifiedAt     110 non-null    object\n",
      "dtypes: int64(1), object(7)\n",
      "memory usage: 7.0+ KB\n"
     ]
    }
   ],
   "source": [
    "# Rename column\n",
    "df_devices = df_devices.rename(columns={'Name':'DeviceName','Active':'DeviceActive'})\n",
    "\n",
    "# DataFrame information\n",
    "df_devices.info()"
   ]
  },
  {
   "cell_type": "code",
   "execution_count": 67,
   "id": "43f75989",
   "metadata": {},
   "outputs": [
    {
     "data": {
      "text/html": [
       "<div>\n",
       "<style scoped>\n",
       "    .dataframe tbody tr th:only-of-type {\n",
       "        vertical-align: middle;\n",
       "    }\n",
       "\n",
       "    .dataframe tbody tr th {\n",
       "        vertical-align: top;\n",
       "    }\n",
       "\n",
       "    .dataframe thead th {\n",
       "        text-align: right;\n",
       "    }\n",
       "</style>\n",
       "<table border=\"1\" class=\"dataframe\">\n",
       "  <thead>\n",
       "    <tr style=\"text-align: right;\">\n",
       "      <th></th>\n",
       "      <th>LocationId</th>\n",
       "      <th>CityId</th>\n",
       "      <th>Longitude</th>\n",
       "      <th>Latitude</th>\n",
       "      <th>Name</th>\n",
       "      <th>TimeZone</th>\n",
       "      <th>Active</th>\n",
       "      <th>CreatedAt</th>\n",
       "      <th>ModifiedAt</th>\n",
       "    </tr>\n",
       "  </thead>\n",
       "  <tbody>\n",
       "    <tr>\n",
       "      <th>0</th>\n",
       "      <td>3D88CBEA-06B9-4463-13B3-08DC43934FB8</td>\n",
       "      <td>761AC964-F254-4E4B-0865-08DC439261D4</td>\n",
       "      <td>-106.110813</td>\n",
       "      <td>28.622254</td>\n",
       "      <td>Juventud</td>\n",
       "      <td>America/Chihuahua</td>\n",
       "      <td>1</td>\n",
       "      <td>2024-03-13 19:25:15.7995493</td>\n",
       "      <td>2024-03-13 19:25:15.7995493</td>\n",
       "    </tr>\n",
       "    <tr>\n",
       "      <th>1</th>\n",
       "      <td>1A37FA41-9850-4CE5-A2E7-08DD3FD912C4</td>\n",
       "      <td>761AC964-F254-4E4B-0865-08DC439261D4</td>\n",
       "      <td>-106.101751</td>\n",
       "      <td>28.658306</td>\n",
       "      <td>Américas</td>\n",
       "      <td>America/Chihuahua</td>\n",
       "      <td>1</td>\n",
       "      <td>2025-01-28 20:19:31.2113749</td>\n",
       "      <td>2025-01-28 20:19:31.2113749</td>\n",
       "    </tr>\n",
       "  </tbody>\n",
       "</table>\n",
       "</div>"
      ],
      "text/plain": [
       "                             LocationId                                CityId  \\\n",
       "0  3D88CBEA-06B9-4463-13B3-08DC43934FB8  761AC964-F254-4E4B-0865-08DC439261D4   \n",
       "1  1A37FA41-9850-4CE5-A2E7-08DD3FD912C4  761AC964-F254-4E4B-0865-08DC439261D4   \n",
       "\n",
       "    Longitude   Latitude      Name           TimeZone  Active  \\\n",
       "0 -106.110813  28.622254  Juventud  America/Chihuahua       1   \n",
       "1 -106.101751  28.658306  Américas  America/Chihuahua       1   \n",
       "\n",
       "                     CreatedAt                   ModifiedAt  \n",
       "0  2024-03-13 19:25:15.7995493  2024-03-13 19:25:15.7995493  \n",
       "1  2025-01-28 20:19:31.2113749  2025-01-28 20:19:31.2113749  "
      ]
     },
     "execution_count": 67,
     "metadata": {},
     "output_type": "execute_result"
    }
   ],
   "source": [
    "# Read DataFrame\n",
    "df_locations = pd.read_csv('../data/raw/dimLocations.csv',sep=',',header=0)\n",
    "\n",
    "# Show DataFrame\n",
    "df_locations.head(2)"
   ]
  },
  {
   "cell_type": "code",
   "execution_count": 68,
   "id": "657ffcae",
   "metadata": {},
   "outputs": [
    {
     "name": "stdout",
     "output_type": "stream",
     "text": [
      "<class 'pandas.core.frame.DataFrame'>\n",
      "RangeIndex: 10 entries, 0 to 9\n",
      "Data columns (total 9 columns):\n",
      " #   Column          Non-Null Count  Dtype  \n",
      "---  ------          --------------  -----  \n",
      " 0   LocationId      10 non-null     object \n",
      " 1   CityId          10 non-null     object \n",
      " 2   Longitude       10 non-null     float64\n",
      " 3   Latitude        10 non-null     float64\n",
      " 4   LocationName    10 non-null     object \n",
      " 5   TimeZone        10 non-null     object \n",
      " 6   LocationActive  10 non-null     int64  \n",
      " 7   CreatedAt       10 non-null     object \n",
      " 8   ModifiedAt      10 non-null     object \n",
      "dtypes: float64(2), int64(1), object(6)\n",
      "memory usage: 848.0+ bytes\n"
     ]
    }
   ],
   "source": [
    "# Rename columns\n",
    "df_locations = df_locations.rename(columns={'Name':'LocationName','Active':'LocationActive'})\n",
    "\n",
    "# DataFrame information\n",
    "df_locations.info()"
   ]
  },
  {
   "cell_type": "code",
   "execution_count": 69,
   "id": "e48fe908",
   "metadata": {},
   "outputs": [
    {
     "data": {
      "text/html": [
       "<div>\n",
       "<style scoped>\n",
       "    .dataframe tbody tr th:only-of-type {\n",
       "        vertical-align: middle;\n",
       "    }\n",
       "\n",
       "    .dataframe tbody tr th {\n",
       "        vertical-align: top;\n",
       "    }\n",
       "\n",
       "    .dataframe thead th {\n",
       "        text-align: right;\n",
       "    }\n",
       "</style>\n",
       "<table border=\"1\" class=\"dataframe\">\n",
       "  <thead>\n",
       "    <tr style=\"text-align: right;\">\n",
       "      <th></th>\n",
       "      <th>SensorId</th>\n",
       "      <th>SensorTyId</th>\n",
       "      <th>DeviceId</th>\n",
       "      <th>ModelId</th>\n",
       "      <th>Name</th>\n",
       "      <th>Active</th>\n",
       "      <th>CreatedAt</th>\n",
       "      <th>ModifiedAt</th>\n",
       "    </tr>\n",
       "  </thead>\n",
       "  <tbody>\n",
       "    <tr>\n",
       "      <th>0</th>\n",
       "      <td>A96B8CC1-EE11-4B23-8ED4-009716582C64</td>\n",
       "      <td>9D7377E0-82EC-49C1-A1BD-08DC4397766E</td>\n",
       "      <td>32E2C47E-D9A7-4B90-85BF-A049537A3B85</td>\n",
       "      <td>683A07C0-2667-4561-A6CC-08DDF2109451</td>\n",
       "      <td>Fase 2</td>\n",
       "      <td>1</td>\n",
       "      <td>2025-09-12 16:27:36.1554194</td>\n",
       "      <td>2025-09-12 16:27:36.1554194</td>\n",
       "    </tr>\n",
       "    <tr>\n",
       "      <th>1</th>\n",
       "      <td>2F2E7360-BB5B-406A-A346-015C7E0C3C16</td>\n",
       "      <td>8DCFFF66-4B0E-42A0-26B4-08DC84ADECD9</td>\n",
       "      <td>CF92A35A-0B92-4DFA-A9EA-8A54150DDACD</td>\n",
       "      <td>0440E616-A780-45C1-95A1-08DC84A8A9D2</td>\n",
       "      <td>Cisterna Agua Interna</td>\n",
       "      <td>0</td>\n",
       "      <td>2025-02-07 20:13:16.3037102</td>\n",
       "      <td>2025-08-12 20:34:48.5357274</td>\n",
       "    </tr>\n",
       "    <tr>\n",
       "      <th>2</th>\n",
       "      <td>8CF875D9-4FE4-49C2-9A3B-019634A33710</td>\n",
       "      <td>5485A1F6-3775-436F-A1B9-08DC4397766E</td>\n",
       "      <td>724834F5-B593-4E6C-9C7B-B3E017025318</td>\n",
       "      <td>74990137-5845-4ECF-9156-08DD49F97E9E</td>\n",
       "      <td>Temperatura</td>\n",
       "      <td>0</td>\n",
       "      <td>2025-03-21 20:39:47.4869394</td>\n",
       "      <td>2025-08-13 19:16:46.3381574</td>\n",
       "    </tr>\n",
       "    <tr>\n",
       "      <th>3</th>\n",
       "      <td>A7A50B5F-664F-4EDD-BE90-01B03D3DA82D</td>\n",
       "      <td>A10313E6-4D60-4C90-26B5-08DC84ADECD9</td>\n",
       "      <td>490C7206-8705-444F-ADCD-1E7591222F29</td>\n",
       "      <td>A3799BB1-C2E1-4E07-95A0-08DC84A8A9D2</td>\n",
       "      <td>Switch 2</td>\n",
       "      <td>1</td>\n",
       "      <td>2025-04-10 22:00:29.5395765</td>\n",
       "      <td>2025-04-10 22:00:29.5395765</td>\n",
       "    </tr>\n",
       "  </tbody>\n",
       "</table>\n",
       "</div>"
      ],
      "text/plain": [
       "                               SensorId                            SensorTyId  \\\n",
       "0  A96B8CC1-EE11-4B23-8ED4-009716582C64  9D7377E0-82EC-49C1-A1BD-08DC4397766E   \n",
       "1  2F2E7360-BB5B-406A-A346-015C7E0C3C16  8DCFFF66-4B0E-42A0-26B4-08DC84ADECD9   \n",
       "2  8CF875D9-4FE4-49C2-9A3B-019634A33710  5485A1F6-3775-436F-A1B9-08DC4397766E   \n",
       "3  A7A50B5F-664F-4EDD-BE90-01B03D3DA82D  A10313E6-4D60-4C90-26B5-08DC84ADECD9   \n",
       "\n",
       "                               DeviceId                               ModelId  \\\n",
       "0  32E2C47E-D9A7-4B90-85BF-A049537A3B85  683A07C0-2667-4561-A6CC-08DDF2109451   \n",
       "1  CF92A35A-0B92-4DFA-A9EA-8A54150DDACD  0440E616-A780-45C1-95A1-08DC84A8A9D2   \n",
       "2  724834F5-B593-4E6C-9C7B-B3E017025318  74990137-5845-4ECF-9156-08DD49F97E9E   \n",
       "3  490C7206-8705-444F-ADCD-1E7591222F29  A3799BB1-C2E1-4E07-95A0-08DC84A8A9D2   \n",
       "\n",
       "                    Name  Active                    CreatedAt  \\\n",
       "0                 Fase 2       1  2025-09-12 16:27:36.1554194   \n",
       "1  Cisterna Agua Interna       0  2025-02-07 20:13:16.3037102   \n",
       "2            Temperatura       0  2025-03-21 20:39:47.4869394   \n",
       "3               Switch 2       1  2025-04-10 22:00:29.5395765   \n",
       "\n",
       "                    ModifiedAt  \n",
       "0  2025-09-12 16:27:36.1554194  \n",
       "1  2025-08-12 20:34:48.5357274  \n",
       "2  2025-08-13 19:16:46.3381574  \n",
       "3  2025-04-10 22:00:29.5395765  "
      ]
     },
     "execution_count": 69,
     "metadata": {},
     "output_type": "execute_result"
    }
   ],
   "source": [
    "# Read DataFrame\n",
    "df_sensors = pd.read_csv('../data/raw/dimSensors.csv',sep=',',header=0)\n",
    "\n",
    "# Show DataFrame\n",
    "df_sensors.head(4)"
   ]
  },
  {
   "cell_type": "code",
   "execution_count": 70,
   "id": "bde1dcbc",
   "metadata": {},
   "outputs": [
    {
     "name": "stdout",
     "output_type": "stream",
     "text": [
      "<class 'pandas.core.frame.DataFrame'>\n",
      "RangeIndex: 312 entries, 0 to 311\n",
      "Data columns (total 8 columns):\n",
      " #   Column        Non-Null Count  Dtype \n",
      "---  ------        --------------  ----- \n",
      " 0   SensorId      312 non-null    object\n",
      " 1   SensorTyId    312 non-null    object\n",
      " 2   DeviceId      312 non-null    object\n",
      " 3   ModelId       312 non-null    object\n",
      " 4   SensorName    312 non-null    object\n",
      " 5   SensorActive  312 non-null    int64 \n",
      " 6   CreatedAt     312 non-null    object\n",
      " 7   ModifiedAt    312 non-null    object\n",
      "dtypes: int64(1), object(7)\n",
      "memory usage: 19.6+ KB\n"
     ]
    }
   ],
   "source": [
    "# Rename columns\n",
    "df_sensors = df_sensors.rename(columns={'Name':'SensorName','Active':'SensorActive'})\n",
    "\n",
    "# DataFrame information\n",
    "df_sensors.info()"
   ]
  },
  {
   "cell_type": "code",
   "execution_count": 71,
   "id": "c4e1fde6",
   "metadata": {},
   "outputs": [
    {
     "data": {
      "text/html": [
       "<div>\n",
       "<style scoped>\n",
       "    .dataframe tbody tr th:only-of-type {\n",
       "        vertical-align: middle;\n",
       "    }\n",
       "\n",
       "    .dataframe tbody tr th {\n",
       "        vertical-align: top;\n",
       "    }\n",
       "\n",
       "    .dataframe thead th {\n",
       "        text-align: right;\n",
       "    }\n",
       "</style>\n",
       "<table border=\"1\" class=\"dataframe\">\n",
       "  <thead>\n",
       "    <tr style=\"text-align: right;\">\n",
       "      <th></th>\n",
       "      <th>SubLocationId</th>\n",
       "      <th>LocationId</th>\n",
       "      <th>SubLocationTyId</th>\n",
       "      <th>Name</th>\n",
       "      <th>Active</th>\n",
       "      <th>CreatedAt</th>\n",
       "      <th>ModifiedAt</th>\n",
       "    </tr>\n",
       "  </thead>\n",
       "  <tbody>\n",
       "    <tr>\n",
       "      <th>0</th>\n",
       "      <td>C7397134-6D3F-4FB3-34A8-08DC43941E6D</td>\n",
       "      <td>3D88CBEA-06B9-4463-13B3-08DC43934FB8</td>\n",
       "      <td>AB7D11A8-2F18-44CF-449B-08DC43939793</td>\n",
       "      <td>Comedor 1</td>\n",
       "      <td>1</td>\n",
       "      <td>2024-03-13 19:31:02.5444210</td>\n",
       "      <td>2024-03-13 19:31:02.5444210</td>\n",
       "    </tr>\n",
       "    <tr>\n",
       "      <th>1</th>\n",
       "      <td>271DC565-7852-4372-34A9-08DC43941E6D</td>\n",
       "      <td>3D88CBEA-06B9-4463-13B3-08DC43934FB8</td>\n",
       "      <td>504235CA-6D9A-42F5-449C-08DC43939793</td>\n",
       "      <td>Cocina 1</td>\n",
       "      <td>1</td>\n",
       "      <td>2024-03-13 19:32:01.2323636</td>\n",
       "      <td>2024-03-13 19:32:01.2323636</td>\n",
       "    </tr>\n",
       "  </tbody>\n",
       "</table>\n",
       "</div>"
      ],
      "text/plain": [
       "                          SubLocationId                            LocationId  \\\n",
       "0  C7397134-6D3F-4FB3-34A8-08DC43941E6D  3D88CBEA-06B9-4463-13B3-08DC43934FB8   \n",
       "1  271DC565-7852-4372-34A9-08DC43941E6D  3D88CBEA-06B9-4463-13B3-08DC43934FB8   \n",
       "\n",
       "                        SubLocationTyId       Name  Active  \\\n",
       "0  AB7D11A8-2F18-44CF-449B-08DC43939793  Comedor 1       1   \n",
       "1  504235CA-6D9A-42F5-449C-08DC43939793   Cocina 1       1   \n",
       "\n",
       "                     CreatedAt                   ModifiedAt  \n",
       "0  2024-03-13 19:31:02.5444210  2024-03-13 19:31:02.5444210  \n",
       "1  2024-03-13 19:32:01.2323636  2024-03-13 19:32:01.2323636  "
      ]
     },
     "execution_count": 71,
     "metadata": {},
     "output_type": "execute_result"
    }
   ],
   "source": [
    "# Read DataFrame\n",
    "df_sublocations = pd.read_csv('../data/raw/dimSublocations.csv',sep=',',header=0)\n",
    "\n",
    "# Show DataFrame\n",
    "df_sublocations.head(2)"
   ]
  },
  {
   "cell_type": "code",
   "execution_count": 72,
   "id": "a3d1a98e",
   "metadata": {},
   "outputs": [
    {
     "name": "stdout",
     "output_type": "stream",
     "text": [
      "<class 'pandas.core.frame.DataFrame'>\n",
      "RangeIndex: 170 entries, 0 to 169\n",
      "Data columns (total 7 columns):\n",
      " #   Column             Non-Null Count  Dtype \n",
      "---  ------             --------------  ----- \n",
      " 0   SubLocationId      170 non-null    object\n",
      " 1   LocationId         170 non-null    object\n",
      " 2   SubLocationTyId    170 non-null    object\n",
      " 3   SubLocationName    170 non-null    object\n",
      " 4   SubLocationActive  170 non-null    int64 \n",
      " 5   CreatedAt          170 non-null    object\n",
      " 6   ModifiedAt         170 non-null    object\n",
      "dtypes: int64(1), object(6)\n",
      "memory usage: 9.4+ KB\n"
     ]
    }
   ],
   "source": [
    "# Rename columns\n",
    "df_sublocations = df_sublocations.rename(columns={'Name':'SubLocationName','Active':'SubLocationActive'})\n",
    "\n",
    "# DataFrame information\n",
    "df_sublocations.info()"
   ]
  },
  {
   "cell_type": "code",
   "execution_count": 73,
   "id": "e7f52fba",
   "metadata": {},
   "outputs": [
    {
     "data": {
      "text/html": [
       "<div>\n",
       "<style scoped>\n",
       "    .dataframe tbody tr th:only-of-type {\n",
       "        vertical-align: middle;\n",
       "    }\n",
       "\n",
       "    .dataframe tbody tr th {\n",
       "        vertical-align: top;\n",
       "    }\n",
       "\n",
       "    .dataframe thead th {\n",
       "        text-align: right;\n",
       "    }\n",
       "</style>\n",
       "<table border=\"1\" class=\"dataframe\">\n",
       "  <thead>\n",
       "    <tr style=\"text-align: right;\">\n",
       "      <th></th>\n",
       "      <th>SensorTyId</th>\n",
       "      <th>Name</th>\n",
       "      <th>UnitName</th>\n",
       "      <th>UnitAbbreviation</th>\n",
       "      <th>Active</th>\n",
       "      <th>CreatedAt</th>\n",
       "    </tr>\n",
       "  </thead>\n",
       "  <tbody>\n",
       "    <tr>\n",
       "      <th>0</th>\n",
       "      <td>5485A1F6-3775-436F-A1B9-08DC4397766E</td>\n",
       "      <td>Temperatura</td>\n",
       "      <td>Centigrados</td>\n",
       "      <td>°C</td>\n",
       "      <td>1</td>\n",
       "      <td>2024-03-13 19:54:58.6955197</td>\n",
       "    </tr>\n",
       "    <tr>\n",
       "      <th>1</th>\n",
       "      <td>279BB078-A028-45C7-A1BA-08DC4397766E</td>\n",
       "      <td>Humedad</td>\n",
       "      <td>Porciento</td>\n",
       "      <td>%</td>\n",
       "      <td>1</td>\n",
       "      <td>2024-03-13 19:56:38.9516445</td>\n",
       "    </tr>\n",
       "    <tr>\n",
       "      <th>2</th>\n",
       "      <td>9ABA7228-87EF-482A-A1BB-08DC4397766E</td>\n",
       "      <td>Estado</td>\n",
       "      <td>Estado</td>\n",
       "      <td>Estado</td>\n",
       "      <td>1</td>\n",
       "      <td>2024-03-13 19:57:14.3865246</td>\n",
       "    </tr>\n",
       "    <tr>\n",
       "      <th>3</th>\n",
       "      <td>32091EAA-4460-4814-A1BC-08DC4397766E</td>\n",
       "      <td>Nivel</td>\n",
       "      <td>Centimetros</td>\n",
       "      <td>cm</td>\n",
       "      <td>1</td>\n",
       "      <td>2024-03-13 20:02:20.6375520</td>\n",
       "    </tr>\n",
       "  </tbody>\n",
       "</table>\n",
       "</div>"
      ],
      "text/plain": [
       "                             SensorTyId         Name     UnitName  \\\n",
       "0  5485A1F6-3775-436F-A1B9-08DC4397766E  Temperatura  Centigrados   \n",
       "1  279BB078-A028-45C7-A1BA-08DC4397766E      Humedad    Porciento   \n",
       "2  9ABA7228-87EF-482A-A1BB-08DC4397766E       Estado       Estado   \n",
       "3  32091EAA-4460-4814-A1BC-08DC4397766E        Nivel  Centimetros   \n",
       "\n",
       "  UnitAbbreviation  Active                    CreatedAt  \n",
       "0               °C       1  2024-03-13 19:54:58.6955197  \n",
       "1                %       1  2024-03-13 19:56:38.9516445  \n",
       "2           Estado       1  2024-03-13 19:57:14.3865246  \n",
       "3               cm       1  2024-03-13 20:02:20.6375520  "
      ]
     },
     "execution_count": 73,
     "metadata": {},
     "output_type": "execute_result"
    }
   ],
   "source": [
    "# Read DataFrame\n",
    "df_unidades = pd.read_csv('../data/raw/dimUnidades.csv',sep=',',header=0)\n",
    "\n",
    "# Show DataFrame\n",
    "df_unidades.head(4)"
   ]
  },
  {
   "cell_type": "code",
   "execution_count": 74,
   "id": "0ed5d338",
   "metadata": {},
   "outputs": [
    {
     "name": "stdout",
     "output_type": "stream",
     "text": [
      "<class 'pandas.core.frame.DataFrame'>\n",
      "RangeIndex: 12 entries, 0 to 11\n",
      "Data columns (total 6 columns):\n",
      " #   Column            Non-Null Count  Dtype \n",
      "---  ------            --------------  ----- \n",
      " 0   SensorTyId        12 non-null     object\n",
      " 1   MeasureName       12 non-null     object\n",
      " 2   UnitName          12 non-null     object\n",
      " 3   UnitAbbreviation  12 non-null     object\n",
      " 4   UnitActive        12 non-null     int64 \n",
      " 5   CreatedAt         12 non-null     object\n",
      "dtypes: int64(1), object(5)\n",
      "memory usage: 704.0+ bytes\n"
     ]
    }
   ],
   "source": [
    "# Rename columns\n",
    "df_unidades = df_unidades.rename(columns={'Name':'MeasureName','Active':'UnitActive'})\n",
    "\n",
    "# DataFrame information\n",
    "df_unidades.info()"
   ]
  },
  {
   "cell_type": "markdown",
   "id": "b108378b",
   "metadata": {},
   "source": [
    "Para todas las tablas, se observa que no tienen valores nulos y el formato de los datos es el correcto.\n",
    "\n",
    "### Combinacion de tablas\n",
    "\n",
    "Se procede a unir las tablas 'factLecturas', 'dimSensors', 'dimUnidades' y 'dimDevices'."
   ]
  },
  {
   "cell_type": "code",
   "execution_count": 75,
   "id": "25bb4782",
   "metadata": {},
   "outputs": [
    {
     "name": "stdout",
     "output_type": "stream",
     "text": [
      "Index(['ReadId', 'TimeSpan', 'SensorId', 'Value', 'LocalTimeSpan'], dtype='object')\n",
      "Index(['SensorId', 'SensorTyId', 'DeviceId', 'ModelId', 'SensorName',\n",
      "       'SensorActive', 'CreatedAt', 'ModifiedAt'],\n",
      "      dtype='object')\n",
      "Index(['SensorTyId', 'MeasureName', 'UnitName', 'UnitAbbreviation',\n",
      "       'UnitActive', 'CreatedAt'],\n",
      "      dtype='object')\n",
      "Index(['DeviceId', 'DeviceTyId', 'SubLocationId', 'DeviceName', 'DeviceActive',\n",
      "       'ModelId', 'CreatedAt', 'ModifiedAt'],\n",
      "      dtype='object')\n"
     ]
    }
   ],
   "source": [
    "# Show column names\n",
    "print(df.columns)\n",
    "print(df_sensors.columns)\n",
    "print(df_unidades.columns)\n",
    "print(df_devices.columns)"
   ]
  },
  {
   "cell_type": "code",
   "execution_count": 76,
   "id": "bace71ed",
   "metadata": {},
   "outputs": [],
   "source": [
    "# Extract DataFrame columns\n",
    "df_sensors = df_sensors[['SensorId','SensorTyId','DeviceId','SensorName','SensorActive']]\n",
    "df_unidades = df_unidades[['SensorTyId','MeasureName','UnitName','UnitAbbreviation']]\n",
    "df_devices = df_devices[['DeviceId','SubLocationId','DeviceName']]"
   ]
  },
  {
   "cell_type": "code",
   "execution_count": 77,
   "id": "33c635ea",
   "metadata": {},
   "outputs": [
    {
     "name": "stdout",
     "output_type": "stream",
     "text": [
      "<class 'pandas.core.frame.DataFrame'>\n",
      "RangeIndex: 165411 entries, 0 to 165410\n",
      "Data columns (total 9 columns):\n",
      " #   Column         Non-Null Count   Dtype         \n",
      "---  ------         --------------   -----         \n",
      " 0   ReadId         165411 non-null  object        \n",
      " 1   TimeSpan       165411 non-null  datetime64[ns]\n",
      " 2   SensorId       165411 non-null  object        \n",
      " 3   Value          165411 non-null  float64       \n",
      " 4   LocalTimeSpan  165411 non-null  datetime64[ns]\n",
      " 5   SensorTyId     0 non-null       object        \n",
      " 6   DeviceId       0 non-null       object        \n",
      " 7   SensorName     0 non-null       object        \n",
      " 8   SensorActive   0 non-null       float64       \n",
      "dtypes: datetime64[ns](2), float64(2), object(5)\n",
      "memory usage: 11.4+ MB\n"
     ]
    }
   ],
   "source": [
    "# Merge DataFrames\n",
    "df1 = df.merge(df_sensors,on='SensorId',how='left')\n",
    "\n",
    "df1.info()"
   ]
  },
  {
   "cell_type": "markdown",
   "id": "ba58a28f",
   "metadata": {},
   "source": [
    "**Nota:** Las tablas 'factLecturas' y 'dimSensors' no tienen valores en comun respecto a la columna 'SensorId', por lo tanto, no seran combinadas."
   ]
  },
  {
   "cell_type": "code",
   "execution_count": 78,
   "id": "fa893b24",
   "metadata": {},
   "outputs": [
    {
     "name": "stdout",
     "output_type": "stream",
     "text": [
      "<class 'pandas.core.frame.DataFrame'>\n",
      "RangeIndex: 312 entries, 0 to 311\n",
      "Data columns (total 8 columns):\n",
      " #   Column            Non-Null Count  Dtype \n",
      "---  ------            --------------  ----- \n",
      " 0   SensorId          312 non-null    object\n",
      " 1   SensorTyId        312 non-null    object\n",
      " 2   DeviceId          312 non-null    object\n",
      " 3   SensorName        312 non-null    object\n",
      " 4   SensorActive      312 non-null    int64 \n",
      " 5   MeasureName       312 non-null    object\n",
      " 6   UnitName          312 non-null    object\n",
      " 7   UnitAbbreviation  312 non-null    object\n",
      "dtypes: int64(1), object(7)\n",
      "memory usage: 19.6+ KB\n"
     ]
    }
   ],
   "source": [
    "# Merge DataFrames\n",
    "df2 = df_sensors.merge(df_unidades,on='SensorTyId',how='left')\n",
    "\n",
    "df2.info()"
   ]
  },
  {
   "cell_type": "code",
   "execution_count": 79,
   "id": "7e8e1c1f",
   "metadata": {},
   "outputs": [
    {
     "name": "stdout",
     "output_type": "stream",
     "text": [
      "<class 'pandas.core.frame.DataFrame'>\n",
      "RangeIndex: 312 entries, 0 to 311\n",
      "Data columns (total 10 columns):\n",
      " #   Column            Non-Null Count  Dtype \n",
      "---  ------            --------------  ----- \n",
      " 0   SensorId          312 non-null    object\n",
      " 1   SensorTyId        312 non-null    object\n",
      " 2   DeviceId          312 non-null    object\n",
      " 3   SensorName        312 non-null    object\n",
      " 4   SensorActive      312 non-null    int64 \n",
      " 5   MeasureName       312 non-null    object\n",
      " 6   UnitName          312 non-null    object\n",
      " 7   UnitAbbreviation  312 non-null    object\n",
      " 8   SubLocationId     312 non-null    object\n",
      " 9   DeviceName        312 non-null    object\n",
      "dtypes: int64(1), object(9)\n",
      "memory usage: 24.5+ KB\n"
     ]
    }
   ],
   "source": [
    "# Merge DataFrames\n",
    "sensor_device_unit = df2.merge(df_devices,on='DeviceId',how='left')\n",
    "\n",
    "sensor_device_unit.info()"
   ]
  },
  {
   "cell_type": "markdown",
   "id": "88216ccd",
   "metadata": {},
   "source": [
    "**Nota:** El DataFrame 'sensor_device_unit' es la union de las tablas 'dimSensors', 'dimUnidades' y 'dimDevices'.\n",
    "\n",
    "Se procede a unir las tablas 'dimCities', 'dimLocations' y 'dimSubLocations'."
   ]
  },
  {
   "cell_type": "code",
   "execution_count": 80,
   "id": "46257d85",
   "metadata": {},
   "outputs": [
    {
     "name": "stdout",
     "output_type": "stream",
     "text": [
      "<class 'pandas.core.frame.DataFrame'>\n",
      "RangeIndex: 10 entries, 0 to 9\n",
      "Data columns (total 11 columns):\n",
      " #   Column          Non-Null Count  Dtype  \n",
      "---  ------          --------------  -----  \n",
      " 0   LocationId      10 non-null     object \n",
      " 1   CityId          10 non-null     object \n",
      " 2   Longitude       10 non-null     float64\n",
      " 3   Latitude        10 non-null     float64\n",
      " 4   LocationName    10 non-null     object \n",
      " 5   TimeZone        10 non-null     object \n",
      " 6   LocationActive  10 non-null     int64  \n",
      " 7   CreatedAt       10 non-null     object \n",
      " 8   ModifiedAt      10 non-null     object \n",
      " 9   StateId         10 non-null     object \n",
      " 10  CityName        10 non-null     object \n",
      "dtypes: float64(2), int64(1), object(8)\n",
      "memory usage: 1008.0+ bytes\n"
     ]
    }
   ],
   "source": [
    "# Merge DataFrames\n",
    "df3 = df_locations.merge(df_cities,on='CityId',how='left')\n",
    "\n",
    "df3.info()"
   ]
  },
  {
   "cell_type": "code",
   "execution_count": 81,
   "id": "feeab431",
   "metadata": {},
   "outputs": [
    {
     "name": "stdout",
     "output_type": "stream",
     "text": [
      "<class 'pandas.core.frame.DataFrame'>\n",
      "RangeIndex: 170 entries, 0 to 169\n",
      "Data columns (total 17 columns):\n",
      " #   Column             Non-Null Count  Dtype  \n",
      "---  ------             --------------  -----  \n",
      " 0   LocationId         170 non-null    object \n",
      " 1   CityId             170 non-null    object \n",
      " 2   Longitude          170 non-null    float64\n",
      " 3   Latitude           170 non-null    float64\n",
      " 4   LocationName       170 non-null    object \n",
      " 5   TimeZone           170 non-null    object \n",
      " 6   LocationActive     170 non-null    int64  \n",
      " 7   CreatedAt_x        170 non-null    object \n",
      " 8   ModifiedAt_x       170 non-null    object \n",
      " 9   StateId            170 non-null    object \n",
      " 10  CityName           170 non-null    object \n",
      " 11  SubLocationId      170 non-null    object \n",
      " 12  SubLocationTyId    170 non-null    object \n",
      " 13  SubLocationName    170 non-null    object \n",
      " 14  SubLocationActive  170 non-null    int64  \n",
      " 15  CreatedAt_y        170 non-null    object \n",
      " 16  ModifiedAt_y       170 non-null    object \n",
      "dtypes: float64(2), int64(2), object(13)\n",
      "memory usage: 22.7+ KB\n"
     ]
    }
   ],
   "source": [
    "# Merge DataFrames\n",
    "location_subloc_city = df3.merge(df_sublocations,on='LocationId',how='left')\n",
    "\n",
    "location_subloc_city.info()"
   ]
  },
  {
   "cell_type": "markdown",
   "id": "afcf8ce6",
   "metadata": {},
   "source": [
    "Los datos estan limpios y combinados ahora, por lo tanto, se guardaran 3 tablas 'factLecturas', 'sensor_device_unit' y 'location_subloc_city'."
   ]
  },
  {
   "cell_type": "code",
   "execution_count": 82,
   "id": "dad7b0a2",
   "metadata": {},
   "outputs": [],
   "source": [
    "file_date = datetime.now().strftime('%Y-%m-%d %H:%M:%S')\n",
    "\n",
    "# Save DataFrame\n",
    "df.to_csv(f'../data/processed/factLecturas_{file_date}.csv', index=False)\n",
    "sensor_device_unit.to_csv(f'../data/processed/sensor_device_unit.csv', index=False)\n",
    "location_subloc_city.to_csv(f'../data/processed/location_subloc_city.csv', index=False)"
   ]
  }
 ],
 "metadata": {
  "kernelspec": {
   "display_name": "env (3.8.10)",
   "language": "python",
   "name": "python3"
  },
  "language_info": {
   "codemirror_mode": {
    "name": "ipython",
    "version": 3
   },
   "file_extension": ".py",
   "mimetype": "text/x-python",
   "name": "python",
   "nbconvert_exporter": "python",
   "pygments_lexer": "ipython3",
   "version": "3.8.10"
  }
 },
 "nbformat": 4,
 "nbformat_minor": 5
}
