{
 "cells": [
  {
   "cell_type": "markdown",
   "id": "4a8df635",
   "metadata": {},
   "source": [
    "# Modelo de Machine Learning para hacer predicciones\n",
    "En este documento se muestra el proceso para crear y entrenar el modelo de machine learning para hacer predicciones de las lecturas de los sensores. La obtencion de dichas lecturas se muestra en el archivo \"eda.ipynb\".\n",
    "\n",
    "Se resuelve el problema de regresion para series de tiempo (Time Series), es decir, se debe estimar el valor de una variable continua aplicada a series temporales.\n",
    "\n",
    "## Preprocesamiento de los datos"
   ]
  },
  {
   "cell_type": "markdown",
   "id": "59ac7ed2",
   "metadata": {},
   "source": [
    "El preprocesamiento de los datos consiste en:\n",
    "\n",
    "1. Llenar valores ausentes y eliminar duplicados\n",
    "2. Eliminar outliers y multicolinealidad\n",
    "3. Convertir variables categoricas en numericas\n",
    "4. Estandarizar (escalar) los datos"
   ]
  },
  {
   "cell_type": "code",
   "execution_count": 27,
   "id": "2796789f",
   "metadata": {},
   "outputs": [],
   "source": [
    "# Import libraries\n",
    "import pandas as pd\n",
    "import numpy as np\n",
    "from matplotlib import pyplot as plt\n",
    "import seaborn as sns\n",
    "from datetime import datetime, timedelta\n",
    "import os\n",
    "from sklearn.model_selection import train_test_split\n",
    "from sklearn.preprocessing import StandardScaler\n",
    "from sklearn.ensemble import RandomForestRegressor, GradientBoostingRegressor\n",
    "from sklearn.metrics import mean_absolute_error, mean_squared_error, r2_score\n",
    "from sklearn.preprocessing import LabelEncoder\n",
    "import joblib"
   ]
  },
  {
   "cell_type": "code",
   "execution_count": 28,
   "id": "607d4b4b",
   "metadata": {},
   "outputs": [
    {
     "data": {
      "text/html": [
       "<div>\n",
       "<style scoped>\n",
       "    .dataframe tbody tr th:only-of-type {\n",
       "        vertical-align: middle;\n",
       "    }\n",
       "\n",
       "    .dataframe tbody tr th {\n",
       "        vertical-align: top;\n",
       "    }\n",
       "\n",
       "    .dataframe thead th {\n",
       "        text-align: right;\n",
       "    }\n",
       "</style>\n",
       "<table border=\"1\" class=\"dataframe\">\n",
       "  <thead>\n",
       "    <tr style=\"text-align: right;\">\n",
       "      <th></th>\n",
       "      <th>ReadId</th>\n",
       "      <th>TimeSpan</th>\n",
       "      <th>SensorId</th>\n",
       "      <th>Value</th>\n",
       "      <th>LocalTimeSpan</th>\n",
       "    </tr>\n",
       "  </thead>\n",
       "  <tbody>\n",
       "    <tr>\n",
       "      <th>0</th>\n",
       "      <td>05543cf3-ec51-4760-a9af-8efa01a203e6</td>\n",
       "      <td>2025-01-18 13:48:44.190</td>\n",
       "      <td>063276ed-657e-40a2-a17b-0c685af518f6</td>\n",
       "      <td>31.20</td>\n",
       "      <td>2025-01-18 07:48:44.190</td>\n",
       "    </tr>\n",
       "    <tr>\n",
       "      <th>1</th>\n",
       "      <td>a3c80788-c698-41cc-835f-aedd98adb72c</td>\n",
       "      <td>2025-01-18 13:48:44.195</td>\n",
       "      <td>22f8b472-4022-41a9-b7b7-37e83a532df0</td>\n",
       "      <td>35.55</td>\n",
       "      <td>2025-01-18 07:48:44.195</td>\n",
       "    </tr>\n",
       "    <tr>\n",
       "      <th>2</th>\n",
       "      <td>4e223d79-4791-4c2a-9d88-97c8efa170bc</td>\n",
       "      <td>2025-01-18 13:48:44.199</td>\n",
       "      <td>267e3d44-9b7f-460c-b34b-603fe0fa9972</td>\n",
       "      <td>36.90</td>\n",
       "      <td>2025-01-18 07:48:44.199</td>\n",
       "    </tr>\n",
       "  </tbody>\n",
       "</table>\n",
       "</div>"
      ],
      "text/plain": [
       "                                 ReadId                 TimeSpan  \\\n",
       "0  05543cf3-ec51-4760-a9af-8efa01a203e6  2025-01-18 13:48:44.190   \n",
       "1  a3c80788-c698-41cc-835f-aedd98adb72c  2025-01-18 13:48:44.195   \n",
       "2  4e223d79-4791-4c2a-9d88-97c8efa170bc  2025-01-18 13:48:44.199   \n",
       "\n",
       "                               SensorId  Value            LocalTimeSpan  \n",
       "0  063276ed-657e-40a2-a17b-0c685af518f6  31.20  2025-01-18 07:48:44.190  \n",
       "1  22f8b472-4022-41a9-b7b7-37e83a532df0  35.55  2025-01-18 07:48:44.195  \n",
       "2  267e3d44-9b7f-460c-b34b-603fe0fa9972  36.90  2025-01-18 07:48:44.199  "
      ]
     },
     "execution_count": 28,
     "metadata": {},
     "output_type": "execute_result"
    }
   ],
   "source": [
    "# Read DataFrame\n",
    "df = pd.read_csv('../data/processed/factLecturas_2025-09-24 11:41:38.csv', sep=',', header=0)\n",
    "\n",
    "# Show DataFrame\n",
    "df.head(3)"
   ]
  },
  {
   "cell_type": "code",
   "execution_count": 29,
   "id": "6cd618a4",
   "metadata": {},
   "outputs": [
    {
     "name": "stdout",
     "output_type": "stream",
     "text": [
      "<class 'pandas.core.frame.DataFrame'>\n",
      "RangeIndex: 165411 entries, 0 to 165410\n",
      "Data columns (total 5 columns):\n",
      " #   Column         Non-Null Count   Dtype  \n",
      "---  ------         --------------   -----  \n",
      " 0   ReadId         165411 non-null  object \n",
      " 1   TimeSpan       165411 non-null  object \n",
      " 2   SensorId       165411 non-null  object \n",
      " 3   Value          165411 non-null  float64\n",
      " 4   LocalTimeSpan  165411 non-null  object \n",
      "dtypes: float64(1), object(4)\n",
      "memory usage: 6.3+ MB\n"
     ]
    }
   ],
   "source": [
    "# DataFrame information\n",
    "df.info()"
   ]
  },
  {
   "cell_type": "code",
   "execution_count": 30,
   "id": "c12a3079",
   "metadata": {},
   "outputs": [
    {
     "name": "stdout",
     "output_type": "stream",
     "text": [
      "<class 'pandas.core.frame.DataFrame'>\n",
      "RangeIndex: 165411 entries, 0 to 165410\n",
      "Data columns (total 5 columns):\n",
      " #   Column         Non-Null Count   Dtype         \n",
      "---  ------         --------------   -----         \n",
      " 0   ReadId         165411 non-null  object        \n",
      " 1   TimeSpan       165411 non-null  datetime64[ns]\n",
      " 2   SensorId       165411 non-null  object        \n",
      " 3   Value          165411 non-null  float64       \n",
      " 4   LocalTimeSpan  165411 non-null  datetime64[ns]\n",
      "dtypes: datetime64[ns](2), float64(1), object(2)\n",
      "memory usage: 6.3+ MB\n"
     ]
    }
   ],
   "source": [
    "# Change date column to datetime\n",
    "df['TimeSpan'] = pd.to_datetime(df['TimeSpan'])\n",
    "df['LocalTimeSpan'] = pd.to_datetime(df['TimeSpan'])\n",
    "\n",
    "# DataFrame information\n",
    "df.info()"
   ]
  },
  {
   "cell_type": "markdown",
   "id": "02ffe26f",
   "metadata": {},
   "source": [
    "### Llenar valores ausentes y eliminar duplicados"
   ]
  },
  {
   "cell_type": "code",
   "execution_count": 4,
   "id": "935ee675",
   "metadata": {},
   "outputs": [
    {
     "name": "stdout",
     "output_type": "stream",
     "text": [
      "ReadId           0\n",
      "TimeSpan         0\n",
      "SensorId         0\n",
      "Value            0\n",
      "LocalTimeSpan    0\n",
      "dtype: int64\n"
     ]
    }
   ],
   "source": [
    "# Verify null values per column\n",
    "print(df.isna().sum())"
   ]
  },
  {
   "cell_type": "code",
   "execution_count": 32,
   "id": "0f977037",
   "metadata": {},
   "outputs": [
    {
     "data": {
      "text/plain": [
       "0"
      ]
     },
     "execution_count": 32,
     "metadata": {},
     "output_type": "execute_result"
    }
   ],
   "source": [
    "# Delete all row duplicates\n",
    "df = df.drop_duplicates(subset=['ReadId'])\n",
    "\n",
    "# Count duplicates\n",
    "df.duplicated(subset=['ReadId']).sum()"
   ]
  },
  {
   "cell_type": "markdown",
   "id": "0bf585b7",
   "metadata": {},
   "source": [
    "### Eliminar outliers y multicolinealidad\n",
    "Se procederá a eliminar el 5% de los valores del extremo superior. Estos valores atipicos pueden distorcionar los resultados, generando predicciones un poco superiores a las reales."
   ]
  },
  {
   "cell_type": "code",
   "execution_count": 33,
   "id": "4db86d0f",
   "metadata": {},
   "outputs": [],
   "source": [
    "# Limit outliers to percentile 95\n",
    "percentile95 = df['Value'].quantile(0.95)\n",
    "for index,value in df['Value'].items():\n",
    "    if value > percentile95:\n",
    "        df.loc[index,'Value'] = percentile95"
   ]
  },
  {
   "cell_type": "code",
   "execution_count": 34,
   "id": "339a7789",
   "metadata": {},
   "outputs": [
    {
     "data": {
      "image/png": "[encoded data removed]",
      "text/plain": [
       "<Figure size 400x400 with 1 Axes>"
      ]
     },
     "metadata": {},
     "output_type": "display_data"
    }
   ],
   "source": [
    "# Box plot\n",
    "df['Value'].plot(kind='box', figsize=[4,4], title='Distribution of values',\n",
    "                 ylabel='Value')\n",
    "plt.xticks(rotation=0)\n",
    "plt.show()"
   ]
  },
  {
   "cell_type": "markdown",
   "id": "d62fb89e",
   "metadata": {},
   "source": [
    "Parece que las columnas 'TimeSpan' y 'LocalTimeSpan' solo varian por unas horas, es decir, es la misma informacion."
   ]
  },
  {
   "cell_type": "code",
   "execution_count": 35,
   "id": "a431dad5",
   "metadata": {},
   "outputs": [
    {
     "data": {
      "image/png": "[encoded data removed]",
      "text/plain": [
       "<Figure size 600x600 with 2 Axes>"
      ]
     },
     "metadata": {},
     "output_type": "display_data"
    }
   ],
   "source": [
    "df_split = df[['TimeSpan','LocalTimeSpan']]\n",
    "\n",
    "# Heatmap\n",
    "plt.figure(figsize = (6,6))\n",
    "sns.heatmap(df_split.corr(), annot=True, square=True, cmap='coolwarm',\n",
    "            fmt='.1f',annot_kws={\"size\": 10}, linewidths=0.5, linecolor='black')\n",
    "plt.show()"
   ]
  },
  {
   "cell_type": "markdown",
   "id": "a6ba40b4",
   "metadata": {},
   "source": [
    "Efectivamente, las columnas 'TimeSpan' y 'LocalTimeSpan' contienen la misma informacion, por lo tanto, se ignorara la columna 'LocalTimeSpan'."
   ]
  },
  {
   "cell_type": "code",
   "execution_count": 37,
   "id": "2eed5459",
   "metadata": {},
   "outputs": [],
   "source": [
    "# Extract columns\n",
    "df = df[['ReadId', 'TimeSpan', 'SensorId', 'Value']]"
   ]
  },
  {
   "cell_type": "markdown",
   "id": "574835d7",
   "metadata": {},
   "source": [
    "### Convertir variables categoricas en numericas\n",
    "La unica variable categorica es 'ReadId', pero no es relevante para el modelo de prediccion de valores medidos por el sensor, por lo tanto, la columna 'ReadId' tambien sera ignorada.\n"
   ]
  },
  {
   "cell_type": "code",
   "execution_count": 40,
   "id": "d71cfeb9",
   "metadata": {},
   "outputs": [
    {
     "name": "stdout",
     "output_type": "stream",
     "text": [
      "Index(['TimeSpan', 'SensorId', 'Value'], dtype='object')\n"
     ]
    }
   ],
   "source": [
    "# Extract columns\n",
    "df = df[['TimeSpan', 'SensorId', 'Value']]\n",
    "\n",
    "# DataFrame columns\n",
    "print(df.columns)"
   ]
  },
  {
   "cell_type": "markdown",
   "id": "4c0cc94a",
   "metadata": {},
   "source": [
    "### Estandarizar (escalar) los datos\n",
    "El escalamiento de los datos no aplica para series temporales, ademas, se usara el modelo 'RandomForestRegressor', en el cual no es necesario escalar los datos."
   ]
  },
  {
   "cell_type": "markdown",
   "id": "3aa10270",
   "metadata": {},
   "source": [
    "## Planteamiento del problema\n",
    "Se tiene un total de 165,407 mediciones de 40 sensores diferentes."
   ]
  },
  {
   "cell_type": "code",
   "execution_count": 43,
   "id": "ba5b9ce2",
   "metadata": {},
   "outputs": [
    {
     "name": "stdout",
     "output_type": "stream",
     "text": [
      "(165407, 3)\n"
     ]
    }
   ],
   "source": [
    "# DataFrame shape\n",
    "print(df.shape)"
   ]
  },
  {
   "cell_type": "code",
   "execution_count": 42,
   "id": "9fe0493c",
   "metadata": {},
   "outputs": [
    {
     "name": "stdout",
     "output_type": "stream",
     "text": [
      "40\n"
     ]
    }
   ],
   "source": [
    "# Count unique values\n",
    "print(df['SensorId'].nunique())"
   ]
  }
 ],
 "metadata": {
  "kernelspec": {
   "display_name": "env (3.8.10)",
   "language": "python",
   "name": "python3"
  },
  "language_info": {
   "codemirror_mode": {
    "name": "ipython",
    "version": 3
   },
   "file_extension": ".py",
   "mimetype": "text/x-python",
   "name": "python",
   "nbconvert_exporter": "python",
   "pygments_lexer": "ipython3",
   "version": "3.8.10"
  }
 },
 "nbformat": 4,
 "nbformat_minor": 5
}
