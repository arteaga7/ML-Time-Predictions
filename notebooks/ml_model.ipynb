{
 "cells": [
  {
   "cell_type": "markdown",
   "id": "4a8df635",
   "metadata": {},
   "source": [
    "# Modelo 'Prophet' para multiples series temporales\n",
    "En este documento se muestra el proceso para crear y entrenar el modelo de machine learning para hacer predicciones de las lecturas de los sensores. La obtencion de dichas lecturas se muestra en el archivo \"eda.ipynb\".\n",
    "\n",
    "Se resuelve el problema de regresion para series de tiempo (Time Series) multiples, es decir, se debe estimar el valor de una variable continua para multiples series temporales. Se implementara el modelo 'Prophet'.\n",
    "\n",
    "## Preprocesamiento de los datos"
   ]
  },
  {
   "cell_type": "markdown",
   "id": "59ac7ed2",
   "metadata": {},
   "source": [
    "El preprocesamiento de los datos consiste en:\n",
    "\n",
    "1. Llenar valores ausentes y eliminar duplicados\n",
    "2. Eliminar outliers y multicolinealidad\n",
    "3. Convertir variables categoricas en numericas\n",
    "4. Estandarizar (escalar) los datos\n",
    "\n",
    "Para series temporales no aplica escalar los datos, por otro lado, se implementara el modelo 'Prophet', el cual maneja bien los outliers y valores ausentes, por lo tanto, no es necesario eliminarlos por ahora."
   ]
  },
  {
   "cell_type": "code",
   "execution_count": 79,
   "id": "2796789f",
   "metadata": {},
   "outputs": [],
   "source": [
    "# Import libraries\n",
    "import pandas as pd\n",
    "import numpy as np\n",
    "from matplotlib import pyplot as plt\n",
    "import seaborn as sns\n",
    "from datetime import datetime, timedelta\n",
    "from prophet import Prophet\n",
    "import joblib\n",
    "import os\n",
    "from sklearn.metrics import mean_absolute_error\n",
    "import numpy as np"
   ]
  },
  {
   "cell_type": "code",
   "execution_count": 80,
   "id": "607d4b4b",
   "metadata": {},
   "outputs": [
    {
     "data": {
      "text/html": [
       "<div>\n",
       "<style scoped>\n",
       "    .dataframe tbody tr th:only-of-type {\n",
       "        vertical-align: middle;\n",
       "    }\n",
       "\n",
       "    .dataframe tbody tr th {\n",
       "        vertical-align: top;\n",
       "    }\n",
       "\n",
       "    .dataframe thead th {\n",
       "        text-align: right;\n",
       "    }\n",
       "</style>\n",
       "<table border=\"1\" class=\"dataframe\">\n",
       "  <thead>\n",
       "    <tr style=\"text-align: right;\">\n",
       "      <th></th>\n",
       "      <th>ReadId</th>\n",
       "      <th>TimeSpan</th>\n",
       "      <th>SensorId</th>\n",
       "      <th>Value</th>\n",
       "      <th>LocalTimeSpan</th>\n",
       "    </tr>\n",
       "  </thead>\n",
       "  <tbody>\n",
       "    <tr>\n",
       "      <th>0</th>\n",
       "      <td>05543cf3-ec51-4760-a9af-8efa01a203e6</td>\n",
       "      <td>2025-01-18 13:48:44.190</td>\n",
       "      <td>063276ed-657e-40a2-a17b-0c685af518f6</td>\n",
       "      <td>31.20</td>\n",
       "      <td>2025-01-18 07:48:44.190</td>\n",
       "    </tr>\n",
       "    <tr>\n",
       "      <th>1</th>\n",
       "      <td>a3c80788-c698-41cc-835f-aedd98adb72c</td>\n",
       "      <td>2025-01-18 13:48:44.195</td>\n",
       "      <td>22f8b472-4022-41a9-b7b7-37e83a532df0</td>\n",
       "      <td>35.55</td>\n",
       "      <td>2025-01-18 07:48:44.195</td>\n",
       "    </tr>\n",
       "    <tr>\n",
       "      <th>2</th>\n",
       "      <td>4e223d79-4791-4c2a-9d88-97c8efa170bc</td>\n",
       "      <td>2025-01-18 13:48:44.199</td>\n",
       "      <td>267e3d44-9b7f-460c-b34b-603fe0fa9972</td>\n",
       "      <td>36.90</td>\n",
       "      <td>2025-01-18 07:48:44.199</td>\n",
       "    </tr>\n",
       "  </tbody>\n",
       "</table>\n",
       "</div>"
      ],
      "text/plain": [
       "                                 ReadId                 TimeSpan  \\\n",
       "0  05543cf3-ec51-4760-a9af-8efa01a203e6  2025-01-18 13:48:44.190   \n",
       "1  a3c80788-c698-41cc-835f-aedd98adb72c  2025-01-18 13:48:44.195   \n",
       "2  4e223d79-4791-4c2a-9d88-97c8efa170bc  2025-01-18 13:48:44.199   \n",
       "\n",
       "                               SensorId  Value            LocalTimeSpan  \n",
       "0  063276ed-657e-40a2-a17b-0c685af518f6  31.20  2025-01-18 07:48:44.190  \n",
       "1  22f8b472-4022-41a9-b7b7-37e83a532df0  35.55  2025-01-18 07:48:44.195  \n",
       "2  267e3d44-9b7f-460c-b34b-603fe0fa9972  36.90  2025-01-18 07:48:44.199  "
      ]
     },
     "execution_count": 80,
     "metadata": {},
     "output_type": "execute_result"
    }
   ],
   "source": [
    "# Read DataFrame\n",
    "df = pd.read_csv('../data/processed/factLecturas_2025-09-24 11:41:38.csv', sep=',', header=0)\n",
    "\n",
    "# Show DataFrame\n",
    "df.head(3)"
   ]
  },
  {
   "cell_type": "code",
   "execution_count": 19,
   "id": "6cd618a4",
   "metadata": {},
   "outputs": [
    {
     "name": "stdout",
     "output_type": "stream",
     "text": [
      "<class 'pandas.core.frame.DataFrame'>\n",
      "RangeIndex: 165411 entries, 0 to 165410\n",
      "Data columns (total 5 columns):\n",
      " #   Column         Non-Null Count   Dtype  \n",
      "---  ------         --------------   -----  \n",
      " 0   ReadId         165411 non-null  object \n",
      " 1   TimeSpan       165411 non-null  object \n",
      " 2   SensorId       165411 non-null  object \n",
      " 3   Value          165411 non-null  float64\n",
      " 4   LocalTimeSpan  165411 non-null  object \n",
      "dtypes: float64(1), object(4)\n",
      "memory usage: 6.3+ MB\n"
     ]
    }
   ],
   "source": [
    "# DataFrame information\n",
    "df.info()"
   ]
  },
  {
   "cell_type": "code",
   "execution_count": 81,
   "id": "c12a3079",
   "metadata": {},
   "outputs": [
    {
     "name": "stdout",
     "output_type": "stream",
     "text": [
      "<class 'pandas.core.frame.DataFrame'>\n",
      "RangeIndex: 165411 entries, 0 to 165410\n",
      "Data columns (total 5 columns):\n",
      " #   Column         Non-Null Count   Dtype         \n",
      "---  ------         --------------   -----         \n",
      " 0   ReadId         165411 non-null  object        \n",
      " 1   TimeSpan       165411 non-null  datetime64[ns]\n",
      " 2   SensorId       165411 non-null  object        \n",
      " 3   Value          165411 non-null  float64       \n",
      " 4   LocalTimeSpan  165411 non-null  datetime64[ns]\n",
      "dtypes: datetime64[ns](2), float64(1), object(2)\n",
      "memory usage: 6.3+ MB\n"
     ]
    }
   ],
   "source": [
    "# Change date column to datetime\n",
    "df['TimeSpan'] = pd.to_datetime(df['TimeSpan'])\n",
    "df['LocalTimeSpan'] = pd.to_datetime(df['TimeSpan'])\n",
    "\n",
    "# DataFrame information\n",
    "df.info()"
   ]
  },
  {
   "cell_type": "markdown",
   "id": "02ffe26f",
   "metadata": {},
   "source": [
    "### Eliminar duplicados"
   ]
  },
  {
   "cell_type": "code",
   "execution_count": 83,
   "id": "0f977037",
   "metadata": {},
   "outputs": [
    {
     "data": {
      "text/plain": [
       "0"
      ]
     },
     "execution_count": 83,
     "metadata": {},
     "output_type": "execute_result"
    }
   ],
   "source": [
    "# Delete all row duplicates\n",
    "df = df.drop_duplicates(subset=['ReadId'])\n",
    "\n",
    "# Count duplicates\n",
    "df.duplicated(subset=['ReadId']).sum()"
   ]
  },
  {
   "cell_type": "markdown",
   "id": "0bf585b7",
   "metadata": {},
   "source": [
    "### Multicolinealidad"
   ]
  },
  {
   "cell_type": "markdown",
   "id": "d62fb89e",
   "metadata": {},
   "source": [
    "Parece que las columnas 'TimeSpan' y 'LocalTimeSpan' solo varian por unas horas, es decir, es la misma informacion."
   ]
  },
  {
   "cell_type": "code",
   "execution_count": 23,
   "id": "a431dad5",
   "metadata": {},
   "outputs": [
    {
     "data": {
      "image/png": "[encoded data removed]",
      "text/plain": [
       "<Figure size 600x600 with 2 Axes>"
      ]
     },
     "metadata": {},
     "output_type": "display_data"
    }
   ],
   "source": [
    "df_split = df[['TimeSpan','LocalTimeSpan']]\n",
    "\n",
    "# Heatmap\n",
    "plt.figure(figsize = (6,6))\n",
    "sns.heatmap(df_split.corr(), annot=True, square=True, cmap='coolwarm',\n",
    "            fmt='.1f',annot_kws={\"size\": 10}, linewidths=0.5, linecolor='black')\n",
    "plt.show()"
   ]
  },
  {
   "cell_type": "markdown",
   "id": "a6ba40b4",
   "metadata": {},
   "source": [
    "Efectivamente, las columnas 'TimeSpan' y 'LocalTimeSpan' contienen la misma informacion, por lo tanto, se ignorara la columna 'LocalTimeSpan'."
   ]
  },
  {
   "cell_type": "code",
   "execution_count": 84,
   "id": "2eed5459",
   "metadata": {},
   "outputs": [],
   "source": [
    "# Extract columns\n",
    "df = df[['ReadId', 'TimeSpan', 'SensorId', 'Value']]"
   ]
  },
  {
   "cell_type": "markdown",
   "id": "574835d7",
   "metadata": {},
   "source": [
    "### Convertir variables categoricas en numericas\n",
    "La unica variable categorica es 'ReadId', pero no es relevante para el modelo de prediccion de valores medidos por el sensor, por lo tanto, la columna 'ReadId' tambien sera ignorada.\n"
   ]
  },
  {
   "cell_type": "code",
   "execution_count": 85,
   "id": "d71cfeb9",
   "metadata": {},
   "outputs": [
    {
     "name": "stdout",
     "output_type": "stream",
     "text": [
      "Index(['TimeSpan', 'SensorId', 'Value'], dtype='object')\n"
     ]
    }
   ],
   "source": [
    "# Extract columns\n",
    "df = df[['TimeSpan', 'SensorId', 'Value']]\n",
    "\n",
    "# DataFrame columns\n",
    "print(df.columns)"
   ]
  },
  {
   "cell_type": "markdown",
   "id": "3aa10270",
   "metadata": {},
   "source": [
    "## Planteamiento del problema\n",
    "Se tiene un total de 165,407 mediciones de 40 sensores diferentes."
   ]
  },
  {
   "cell_type": "code",
   "execution_count": 26,
   "id": "ba5b9ce2",
   "metadata": {},
   "outputs": [
    {
     "name": "stdout",
     "output_type": "stream",
     "text": [
      "(165407, 3)\n"
     ]
    }
   ],
   "source": [
    "# DataFrame shape\n",
    "print(df.shape)"
   ]
  },
  {
   "cell_type": "code",
   "execution_count": 27,
   "id": "9fe0493c",
   "metadata": {},
   "outputs": [
    {
     "name": "stdout",
     "output_type": "stream",
     "text": [
      "40\n"
     ]
    }
   ],
   "source": [
    "# Count unique values\n",
    "print(df['SensorId'].nunique())"
   ]
  },
  {
   "cell_type": "markdown",
   "id": "6c0ace83",
   "metadata": {},
   "source": [
    "Para realizar el análisis de series temporales para 40 sensores diferentes, se trataran por separado las series de tiempo. Se usara el modelo 'Prophet' para predecir los datos secuenciales a lo largo del tiempo (forecasting de series de tiempo).\n",
    "\n",
    "## \"Prophet\" Model"
   ]
  },
  {
   "cell_type": "code",
   "execution_count": null,
   "id": "4409ba9f",
   "metadata": {},
   "outputs": [
    {
     "data": {
      "text/html": [
       "<div>\n",
       "<style scoped>\n",
       "    .dataframe tbody tr th:only-of-type {\n",
       "        vertical-align: middle;\n",
       "    }\n",
       "\n",
       "    .dataframe tbody tr th {\n",
       "        vertical-align: top;\n",
       "    }\n",
       "\n",
       "    .dataframe thead th {\n",
       "        text-align: right;\n",
       "    }\n",
       "</style>\n",
       "<table border=\"1\" class=\"dataframe\">\n",
       "  <thead>\n",
       "    <tr style=\"text-align: right;\">\n",
       "      <th></th>\n",
       "      <th>SensorId</th>\n",
       "      <th>ds</th>\n",
       "      <th>y</th>\n",
       "    </tr>\n",
       "  </thead>\n",
       "  <tbody>\n",
       "    <tr>\n",
       "      <th>0</th>\n",
       "      <td>063276ed-657e-40a2-a17b-0c685af518f6</td>\n",
       "      <td>2025-01-08 21:00:00</td>\n",
       "      <td>41.025</td>\n",
       "    </tr>\n",
       "    <tr>\n",
       "      <th>1</th>\n",
       "      <td>063276ed-657e-40a2-a17b-0c685af518f6</td>\n",
       "      <td>2025-01-08 22:00:00</td>\n",
       "      <td>NaN</td>\n",
       "    </tr>\n",
       "    <tr>\n",
       "      <th>2</th>\n",
       "      <td>063276ed-657e-40a2-a17b-0c685af518f6</td>\n",
       "      <td>2025-01-08 23:00:00</td>\n",
       "      <td>NaN</td>\n",
       "    </tr>\n",
       "    <tr>\n",
       "      <th>3</th>\n",
       "      <td>063276ed-657e-40a2-a17b-0c685af518f6</td>\n",
       "      <td>2025-01-09 00:00:00</td>\n",
       "      <td>NaN</td>\n",
       "    </tr>\n",
       "    <tr>\n",
       "      <th>4</th>\n",
       "      <td>063276ed-657e-40a2-a17b-0c685af518f6</td>\n",
       "      <td>2025-01-09 01:00:00</td>\n",
       "      <td>NaN</td>\n",
       "    </tr>\n",
       "  </tbody>\n",
       "</table>\n",
       "</div>"
      ],
      "text/plain": [
       "                               SensorId                  ds       y\n",
       "0  063276ed-657e-40a2-a17b-0c685af518f6 2025-01-08 21:00:00  41.025\n",
       "1  063276ed-657e-40a2-a17b-0c685af518f6 2025-01-08 22:00:00     NaN\n",
       "2  063276ed-657e-40a2-a17b-0c685af518f6 2025-01-08 23:00:00     NaN\n",
       "3  063276ed-657e-40a2-a17b-0c685af518f6 2025-01-09 00:00:00     NaN\n",
       "4  063276ed-657e-40a2-a17b-0c685af518f6 2025-01-09 01:00:00     NaN"
      ]
     },
     "execution_count": 86,
     "metadata": {},
     "output_type": "execute_result"
    }
   ],
   "source": [
    "# Set variables\n",
    "FUTURE_DAYS = 6\n",
    "RESAMPLE_FREQ = 'H'\n",
    "\n",
    "# Convert to compatible format for Prophet (ds, y)\n",
    "df = df.rename(columns={'TimeSpan': 'ds', 'Value': 'y'})\n",
    "df = df.sort_values(by='ds',ascending=True)\n",
    "\n",
    "# Resample by hour and obtain the mean of data\n",
    "df_resampled = df.set_index('ds').groupby('SensorId')['y'].resample(RESAMPLE_FREQ).mean().reset_index()\n",
    "df_resampled.head(5)"
   ]
  },
  {
   "cell_type": "code",
   "execution_count": 87,
   "id": "7d403c1f",
   "metadata": {},
   "outputs": [
    {
     "name": "stdout",
     "output_type": "stream",
     "text": [
      "Total different sensors: 40\n"
     ]
    }
   ],
   "source": [
    "# Create directory to save the results\n",
    "output_dir = '../data/processed/prophet_forecasts'\n",
    "os.makedirs(output_dir, exist_ok=True)\n",
    "\n",
    "# Obtain all sensors as a list\n",
    "sensor_ids = df_resampled['SensorId'].unique()\n",
    "print(f\"Total different sensors: {len(sensor_ids)}\")"
   ]
  },
  {
   "cell_type": "code",
   "execution_count": 88,
   "id": "a4b27121",
   "metadata": {},
   "outputs": [
    {
     "name": "stderr",
     "output_type": "stream",
     "text": [
      "22:43:48 - cmdstanpy - INFO - Chain [1] start processing\n",
      "22:43:48 - cmdstanpy - INFO - Chain [1] done processing\n",
      "22:43:50 - cmdstanpy - INFO - Chain [1] start processing\n",
      "22:43:50 - cmdstanpy - INFO - Chain [1] done processing\n",
      "22:43:50 - cmdstanpy - INFO - Chain [1] start processing\n",
      "22:43:50 - cmdstanpy - INFO - Chain [1] done processing\n",
      "22:43:51 - cmdstanpy - INFO - Chain [1] start processing\n",
      "22:43:51 - cmdstanpy - INFO - Chain [1] done processing\n",
      "22:43:52 - cmdstanpy - INFO - Chain [1] start processing\n",
      "22:43:52 - cmdstanpy - INFO - Chain [1] done processing\n",
      "22:43:52 - cmdstanpy - INFO - Chain [1] start processing\n",
      "22:43:52 - cmdstanpy - INFO - Chain [1] done processing\n",
      "22:43:53 - cmdstanpy - INFO - Chain [1] start processing\n",
      "22:43:53 - cmdstanpy - INFO - Chain [1] done processing\n",
      "22:43:53 - cmdstanpy - INFO - Chain [1] start processing\n",
      "22:43:53 - cmdstanpy - INFO - Chain [1] done processing\n",
      "22:43:54 - cmdstanpy - INFO - Chain [1] start processing\n",
      "22:43:54 - cmdstanpy - INFO - Chain [1] done processing\n",
      "22:43:54 - cmdstanpy - INFO - Chain [1] start processing\n",
      "22:43:54 - cmdstanpy - INFO - Chain [1] done processing\n",
      "22:43:55 - cmdstanpy - INFO - Chain [1] start processing\n",
      "22:43:55 - cmdstanpy - INFO - Chain [1] done processing\n",
      "22:43:55 - cmdstanpy - INFO - Chain [1] start processing\n",
      "22:43:55 - cmdstanpy - INFO - Chain [1] done processing\n",
      "22:43:57 - cmdstanpy - INFO - Chain [1] start processing\n",
      "22:43:57 - cmdstanpy - INFO - Chain [1] done processing\n",
      "22:43:57 - cmdstanpy - INFO - Chain [1] start processing\n",
      "22:43:57 - cmdstanpy - INFO - Chain [1] done processing\n",
      "22:43:58 - cmdstanpy - INFO - Chain [1] start processing\n",
      "22:43:58 - cmdstanpy - INFO - Chain [1] done processing\n",
      "22:43:58 - cmdstanpy - INFO - Chain [1] start processing\n",
      "22:43:58 - cmdstanpy - INFO - Chain [1] done processing\n",
      "22:43:59 - cmdstanpy - INFO - Chain [1] start processing\n",
      "22:43:59 - cmdstanpy - INFO - Chain [1] done processing\n",
      "22:43:59 - cmdstanpy - INFO - Chain [1] start processing\n",
      "22:43:59 - cmdstanpy - INFO - Chain [1] done processing\n",
      "22:44:00 - cmdstanpy - INFO - Chain [1] start processing\n",
      "22:44:00 - cmdstanpy - INFO - Chain [1] done processing\n",
      "22:44:01 - cmdstanpy - INFO - Chain [1] start processing\n",
      "22:44:01 - cmdstanpy - INFO - Chain [1] done processing\n",
      "22:44:01 - cmdstanpy - INFO - Chain [1] start processing\n",
      "22:44:01 - cmdstanpy - INFO - Chain [1] done processing\n",
      "22:44:02 - cmdstanpy - INFO - Chain [1] start processing\n",
      "22:44:02 - cmdstanpy - INFO - Chain [1] done processing\n",
      "22:44:03 - cmdstanpy - INFO - Chain [1] start processing\n",
      "22:44:03 - cmdstanpy - INFO - Chain [1] done processing\n",
      "22:44:03 - cmdstanpy - INFO - Chain [1] start processing\n",
      "22:44:03 - cmdstanpy - INFO - Chain [1] done processing\n",
      "22:44:04 - cmdstanpy - INFO - Chain [1] start processing\n",
      "22:44:04 - cmdstanpy - INFO - Chain [1] done processing\n",
      "22:44:04 - cmdstanpy - INFO - Chain [1] start processing\n",
      "22:44:04 - cmdstanpy - INFO - Chain [1] done processing\n"
     ]
    },
    {
     "name": "stdout",
     "output_type": "stream",
     "text": [
      " ❌ Insufficient data for sensor decbab18-47d6-47f2-a8ec-37068abb0034. Skipping.\n"
     ]
    },
    {
     "name": "stderr",
     "output_type": "stream",
     "text": [
      "22:44:05 - cmdstanpy - INFO - Chain [1] start processing\n",
      "22:44:05 - cmdstanpy - INFO - Chain [1] done processing\n",
      "22:44:05 - cmdstanpy - INFO - Chain [1] start processing\n",
      "22:44:05 - cmdstanpy - INFO - Chain [1] done processing\n",
      "22:44:06 - cmdstanpy - INFO - Chain [1] start processing\n",
      "22:44:06 - cmdstanpy - INFO - Chain [1] done processing\n",
      "22:44:07 - cmdstanpy - INFO - Chain [1] start processing\n",
      "22:44:07 - cmdstanpy - INFO - Chain [1] done processing\n",
      "22:44:07 - cmdstanpy - INFO - Chain [1] start processing\n",
      "22:44:07 - cmdstanpy - INFO - Chain [1] done processing\n",
      "22:44:08 - cmdstanpy - INFO - Chain [1] start processing\n",
      "22:44:08 - cmdstanpy - INFO - Chain [1] done processing\n"
     ]
    },
    {
     "name": "stdout",
     "output_type": "stream",
     "text": [
      "\n",
      "✅ Process completed.\n",
      "The forecast charts have been saved to the directory '../data/processed/prophet_forecasts'.\n",
      "The results of the predictions are in the 'results' dictionary.\n"
     ]
    }
   ],
   "source": [
    "# Create dictionary to save the resulting DataFrames\n",
    "results = {}\n",
    "\n",
    "for sensor_id in sensor_ids:\n",
    "    df_sensor = df_resampled[df_resampled['SensorId'] == sensor_id].copy()\n",
    "    df_sensor = df_sensor.dropna(subset=['y'])\n",
    "    \n",
    "    if len(df_sensor) < 2:\n",
    "        print(f\" ❌ Insufficient data for sensor {sensor_id}. Skipping.\")\n",
    "        continue\n",
    "\n",
    "    # Create model.\n",
    "    # Weekly and daily seasonality is automatically activated if sufficient data is detected\n",
    "    model = Prophet(\n",
    "        yearly_seasonality='auto', \n",
    "        weekly_seasonality='auto', \n",
    "        daily_seasonality='auto',\n",
    "        # changepoint_prior_scale=0.03 \n",
    "    )\n",
    "    \n",
    "    # Fit the model\n",
    "    try:\n",
    "        model.fit(df_sensor)\n",
    "    except Exception as e:\n",
    "        print(f\" ❌ Error training the model for {sensor_id}: {e}. Skipping.\")\n",
    "        continue\n",
    "\n",
    "    # Make forecast\n",
    "    future = model.make_future_dataframe(periods=FUTURE_DAYS * 24, freq=RESAMPLE_FREQ)\n",
    "    forecast = model.predict(future)\n",
    "    \n",
    "    # Add column 'y' to DataFrame forecast\n",
    "    actual_values = df_sensor[['ds', 'y']]\n",
    "    forecast = pd.merge(forecast, actual_values, on='ds', how='left')\n",
    "    \n",
    "    # Store the forecast\n",
    "    results[sensor_id] = forecast\n",
    "    \n",
    "    # Visualization\n",
    "    fig = model.plot(forecast)\n",
    "    plt.title(f\"Time Series forecast for sensor: {sensor_id}\")\n",
    "    plt.xlabel(\"Date\")\n",
    "    plt.ylabel(\"Value\")\n",
    "    \n",
    "    # Save plot\n",
    "    fig.savefig(os.path.join(output_dir, f'forecast_{sensor_id}.png'))\n",
    "    plt.close(fig)\n",
    "\n",
    "print(\"\\n✅ Process completed.\")\n",
    "print(f\"The forecast charts have been saved to the directory '{output_dir}'.\")\n",
    "print(\"The results of the predictions are in the 'results' dictionary.\")"
   ]
  },
  {
   "cell_type": "markdown",
   "id": "7f0f8bc3",
   "metadata": {},
   "source": [
    "Para medir la efectivadad de los modelos que usara la metrica error absoluto promedio (MAE)."
   ]
  },
  {
   "cell_type": "code",
   "execution_count": 89,
   "id": "11a9a8d3",
   "metadata": {},
   "outputs": [
    {
     "name": "stdout",
     "output_type": "stream",
     "text": [
      "MAE for sensor 063276ed-657e-40a2-a17b-0c685af518f6: 3.7534\n",
      "MAE for sensor 0db793d3-03f9-4f57-9ff0-a09ea5a4d23a: 0.0000\n",
      "MAE for sensor 0f6a552b-3f6a-48f1-b13a-2e7734cf957d: 0.2246\n",
      "MAE for sensor 1620956c-77d6-469e-82f8-6272fd987503: 0.9306\n",
      "MAE for sensor 1929d6d6-d2c8-4e2a-af69-2b6fb0cd590f: 0.0000\n",
      "MAE for sensor 1e32d6ac-8740-4f45-bf58-6bce274fb637: 0.3042\n",
      "MAE for sensor 22f8b472-4022-41a9-b7b7-37e83a532df0: 3.9145\n",
      "MAE for sensor 25057233-49f7-474f-b924-909aa8ba4a04: 2.1392\n",
      "MAE for sensor 267e3d44-9b7f-460c-b34b-603fe0fa9972: 3.5522\n",
      "MAE for sensor 2db12284-062b-42b7-b540-142d07749e2d: 0.0621\n",
      "MAE for sensor 315af56b-2340-4ae7-a4b6-ecd2ef002eef: 1.4140\n",
      "MAE for sensor 3453da27-ac58-485f-99f5-3e3a7a4cc3dc: 0.9673\n",
      "MAE for sensor 42d86407-9679-4224-86dd-5ec7b756d38d: 0.2578\n",
      "MAE for sensor 467aeeec-e69a-42fa-8a07-d9c72f513e9d: 1.1297\n",
      "MAE for sensor 485e3767-dba2-4280-8bb4-2f38f48f3993: 0.0000\n",
      "MAE for sensor 5064c764-1fa5-49d8-9b8f-080d9eb38ab7: 0.9872\n",
      "MAE for sensor 62dbc359-5b75-4de6-8bb3-f46c4d8f1929: 2.9450\n",
      "MAE for sensor 7014fffa-571e-4274-a669-5e548a91840e: 0.2703\n",
      "MAE for sensor 8139d3c7-5a4c-40d3-b3a6-8db4da769001: 3.8456\n",
      "MAE for sensor 8bf5c78c-6868-4c3c-82f9-dacf21790984: 0.9920\n",
      "MAE for sensor 94ac4897-6805-49c2-93c3-ce9b04218f96: 3.5809\n",
      "MAE for sensor 9fc3299c-4c04-4752-a12a-ce5805ff26a5: 0.0000\n",
      "MAE for sensor a4dd4703-b7c0-4b09-a4da-20ebd2e0da87: 1.3811\n",
      "MAE for sensor b2f37aeb-c577-44fd-a3ad-42fe230de94b: 0.1533\n",
      "MAE for sensor b987de49-eaea-4ab1-8e8a-e8146c251c5c: 0.1361\n",
      "MAE for sensor baa284a7-6777-4389-8cd4-78c23e7e6bb9: 2.4687\n",
      "MAE for sensor c58b8e59-5db9-4384-bdc5-3eb183684bf5: 0.0000\n",
      "MAE for sensor c89f5971-29d3-468f-a897-b9ae520a27dd: 0.6893\n",
      "MAE for sensor cc53ef06-36ed-4a86-990e-369c02ca8eb1: 0.1494\n",
      "MAE for sensor d080f284-c51f-4a48-a4d7-b7acec0672ba: 3.9471\n",
      "MAE for sensor dc862405-74f9-4c47-b26f-7a73b0825ea9: 0.0000\n",
      "MAE for sensor e0b71fc2-08e2-4063-8971-f194645b187e: 3.3624\n",
      "MAE for sensor e275933d-6f31-420e-8acd-77a79ec56262: 3.9225\n",
      "MAE for sensor e8a17600-ef11-46d9-a6ec-d0eb7e9deac8: 0.0000\n",
      "MAE for sensor f6b0bf8f-e653-426f-aafd-5335cbb98fb7: 0.0000\n",
      "MAE for sensor faabc39e-0cef-451a-a5b7-d39e20c683d2: 1.2125\n",
      "MAE for sensor fba5ca88-2a43-4dd0-bebf-3da4564c161b: 0.0437\n",
      "MAE for sensor fc2e60e5-274c-4515-8ac9-93b23d872ff7: 0.6644\n",
      "MAE for sensor fcd32c37-d066-40a6-a49a-4f3c6e8f60cf: 0.1030\n"
     ]
    }
   ],
   "source": [
    "# Calculate MAE per model\n",
    "mae_scores = {}\n",
    "all_maes = []\n",
    "\n",
    "for sensor_id, forecast_df in results.items():\n",
    "    historical_comparison = forecast_df.dropna(subset=['y'])\n",
    "    \n",
    "    if len(historical_comparison) == 0:\n",
    "        print(f\"There are not enough points to calculate the MAE for {sensor_id}.\")\n",
    "        mae_scores[sensor_id] = np.nan\n",
    "        continue\n",
    "        \n",
    "    mae = mean_absolute_error(historical_comparison['y'], historical_comparison['yhat'])\n",
    "    \n",
    "    mae_scores[sensor_id] = mae\n",
    "    all_maes.append(mae)\n",
    "    \n",
    "    print(f\"MAE for sensor {sensor_id}: {mae:.4f}\")"
   ]
  },
  {
   "cell_type": "markdown",
   "id": "d25176dd",
   "metadata": {},
   "source": [
    "**Nota:** Se observa que la mayoria de los errores absolutos medios son bajos (entre 0 y 1), pero hay pocos que son relativamente altos (3.5 aproximadamente). Los modelos correspondienes a esos errores deben ser entrenados con otros parametros mas especificos y asi se disminuiran tales errores."
   ]
  },
  {
   "cell_type": "markdown",
   "id": "1ba6397b",
   "metadata": {},
   "source": [
    "### Resultados\n",
    "Analicemos algunos resultados. Cada elemento del diccionario 'results' es un DataFrame, donde la clave es 'SensorId' y el valor es el DataFrame correspondiente. Se analizaran 2 resultados."
   ]
  },
  {
   "cell_type": "code",
   "execution_count": 98,
   "id": "b439a6b0",
   "metadata": {},
   "outputs": [
    {
     "data": {
      "text/html": [
       "<div>\n",
       "<style scoped>\n",
       "    .dataframe tbody tr th:only-of-type {\n",
       "        vertical-align: middle;\n",
       "    }\n",
       "\n",
       "    .dataframe tbody tr th {\n",
       "        vertical-align: top;\n",
       "    }\n",
       "\n",
       "    .dataframe thead th {\n",
       "        text-align: right;\n",
       "    }\n",
       "</style>\n",
       "<table border=\"1\" class=\"dataframe\">\n",
       "  <thead>\n",
       "    <tr style=\"text-align: right;\">\n",
       "      <th></th>\n",
       "      <th>ds</th>\n",
       "      <th>trend</th>\n",
       "      <th>yhat_lower</th>\n",
       "      <th>yhat_upper</th>\n",
       "      <th>trend_lower</th>\n",
       "      <th>trend_upper</th>\n",
       "      <th>additive_terms</th>\n",
       "      <th>additive_terms_lower</th>\n",
       "      <th>additive_terms_upper</th>\n",
       "      <th>daily</th>\n",
       "      <th>daily_lower</th>\n",
       "      <th>daily_upper</th>\n",
       "      <th>weekly</th>\n",
       "      <th>weekly_lower</th>\n",
       "      <th>weekly_upper</th>\n",
       "      <th>multiplicative_terms</th>\n",
       "      <th>multiplicative_terms_lower</th>\n",
       "      <th>multiplicative_terms_upper</th>\n",
       "      <th>yhat</th>\n",
       "      <th>y</th>\n",
       "    </tr>\n",
       "  </thead>\n",
       "  <tbody>\n",
       "    <tr>\n",
       "      <th>0</th>\n",
       "      <td>2025-01-08 21:00:00</td>\n",
       "      <td>32.442312</td>\n",
       "      <td>36.885436</td>\n",
       "      <td>49.069415</td>\n",
       "      <td>32.442312</td>\n",
       "      <td>32.442312</td>\n",
       "      <td>10.692078</td>\n",
       "      <td>10.692078</td>\n",
       "      <td>10.692078</td>\n",
       "      <td>9.206047</td>\n",
       "      <td>9.206047</td>\n",
       "      <td>9.206047</td>\n",
       "      <td>1.486031</td>\n",
       "      <td>1.486031</td>\n",
       "      <td>1.486031</td>\n",
       "      <td>0.0</td>\n",
       "      <td>0.0</td>\n",
       "      <td>0.0</td>\n",
       "      <td>43.134390</td>\n",
       "      <td>41.025</td>\n",
       "    </tr>\n",
       "    <tr>\n",
       "      <th>1</th>\n",
       "      <td>2025-01-09 18:00:00</td>\n",
       "      <td>32.683194</td>\n",
       "      <td>28.228926</td>\n",
       "      <td>40.941383</td>\n",
       "      <td>32.683194</td>\n",
       "      <td>32.683194</td>\n",
       "      <td>1.722313</td>\n",
       "      <td>1.722313</td>\n",
       "      <td>1.722313</td>\n",
       "      <td>1.505434</td>\n",
       "      <td>1.505434</td>\n",
       "      <td>1.505434</td>\n",
       "      <td>0.216879</td>\n",
       "      <td>0.216879</td>\n",
       "      <td>0.216879</td>\n",
       "      <td>0.0</td>\n",
       "      <td>0.0</td>\n",
       "      <td>0.0</td>\n",
       "      <td>34.405507</td>\n",
       "      <td>33.550</td>\n",
       "    </tr>\n",
       "    <tr>\n",
       "      <th>2</th>\n",
       "      <td>2025-01-13 19:00:00</td>\n",
       "      <td>33.795839</td>\n",
       "      <td>32.393568</td>\n",
       "      <td>44.422853</td>\n",
       "      <td>33.795839</td>\n",
       "      <td>33.795839</td>\n",
       "      <td>4.637436</td>\n",
       "      <td>4.637436</td>\n",
       "      <td>4.637436</td>\n",
       "      <td>4.776776</td>\n",
       "      <td>4.776776</td>\n",
       "      <td>4.776776</td>\n",
       "      <td>-0.139340</td>\n",
       "      <td>-0.139340</td>\n",
       "      <td>-0.139340</td>\n",
       "      <td>0.0</td>\n",
       "      <td>0.0</td>\n",
       "      <td>0.0</td>\n",
       "      <td>38.433275</td>\n",
       "      <td>39.735</td>\n",
       "    </tr>\n",
       "  </tbody>\n",
       "</table>\n",
       "</div>"
      ],
      "text/plain": [
       "                   ds      trend  yhat_lower  yhat_upper  trend_lower  \\\n",
       "0 2025-01-08 21:00:00  32.442312   36.885436   49.069415    32.442312   \n",
       "1 2025-01-09 18:00:00  32.683194   28.228926   40.941383    32.683194   \n",
       "2 2025-01-13 19:00:00  33.795839   32.393568   44.422853    33.795839   \n",
       "\n",
       "   trend_upper  additive_terms  additive_terms_lower  additive_terms_upper  \\\n",
       "0    32.442312       10.692078             10.692078             10.692078   \n",
       "1    32.683194        1.722313              1.722313              1.722313   \n",
       "2    33.795839        4.637436              4.637436              4.637436   \n",
       "\n",
       "      daily  daily_lower  daily_upper    weekly  weekly_lower  weekly_upper  \\\n",
       "0  9.206047     9.206047     9.206047  1.486031      1.486031      1.486031   \n",
       "1  1.505434     1.505434     1.505434  0.216879      0.216879      0.216879   \n",
       "2  4.776776     4.776776     4.776776 -0.139340     -0.139340     -0.139340   \n",
       "\n",
       "   multiplicative_terms  multiplicative_terms_lower  \\\n",
       "0                   0.0                         0.0   \n",
       "1                   0.0                         0.0   \n",
       "2                   0.0                         0.0   \n",
       "\n",
       "   multiplicative_terms_upper       yhat       y  \n",
       "0                         0.0  43.134390  41.025  \n",
       "1                         0.0  34.405507  33.550  \n",
       "2                         0.0  38.433275  39.735  "
      ]
     },
     "execution_count": 98,
     "metadata": {},
     "output_type": "execute_result"
    }
   ],
   "source": [
    "df_063276ed = results['063276ed-657e-40a2-a17b-0c685af518f6']\n",
    "df_063276ed.head(3)"
   ]
  },
  {
   "cell_type": "markdown",
   "id": "4cbd7f7a",
   "metadata": {},
   "source": [
    "ds: La marca de tiempo.\n",
    "\n",
    "yhat_lower / yhat_upper: Los límites inferior y superior del intervalo de incertidumbre (confianza).\n",
    "\n",
    "yhat: El valor predicho (el pronóstico central).\n",
    "\n",
    "y: El valor real donde contendra n valores nulos al final, correspondientes a las predicciones hechas. n <= FUTURE_DAYS*24-(posibles valores nulos agregados al hacer el 'resample' en el DataFrame original)"
   ]
  },
  {
   "cell_type": "code",
   "execution_count": 99,
   "id": "b43d83e7",
   "metadata": {},
   "outputs": [
    {
     "data": {
      "text/html": [
       "<div>\n",
       "<style scoped>\n",
       "    .dataframe tbody tr th:only-of-type {\n",
       "        vertical-align: middle;\n",
       "    }\n",
       "\n",
       "    .dataframe tbody tr th {\n",
       "        vertical-align: top;\n",
       "    }\n",
       "\n",
       "    .dataframe thead th {\n",
       "        text-align: right;\n",
       "    }\n",
       "</style>\n",
       "<table border=\"1\" class=\"dataframe\">\n",
       "  <thead>\n",
       "    <tr style=\"text-align: right;\">\n",
       "      <th></th>\n",
       "      <th>ds</th>\n",
       "      <th>trend</th>\n",
       "      <th>yhat_lower</th>\n",
       "      <th>yhat_upper</th>\n",
       "      <th>trend_lower</th>\n",
       "      <th>trend_upper</th>\n",
       "      <th>additive_terms</th>\n",
       "      <th>additive_terms_lower</th>\n",
       "      <th>additive_terms_upper</th>\n",
       "      <th>daily</th>\n",
       "      <th>daily_lower</th>\n",
       "      <th>daily_upper</th>\n",
       "      <th>weekly</th>\n",
       "      <th>weekly_lower</th>\n",
       "      <th>weekly_upper</th>\n",
       "      <th>multiplicative_terms</th>\n",
       "      <th>multiplicative_terms_lower</th>\n",
       "      <th>multiplicative_terms_upper</th>\n",
       "      <th>yhat</th>\n",
       "      <th>y</th>\n",
       "    </tr>\n",
       "  </thead>\n",
       "  <tbody>\n",
       "    <tr>\n",
       "      <th>528</th>\n",
       "      <td>2025-02-06 19:00:00</td>\n",
       "      <td>40.675792</td>\n",
       "      <td>38.952435</td>\n",
       "      <td>51.663678</td>\n",
       "      <td>40.668246</td>\n",
       "      <td>40.683523</td>\n",
       "      <td>4.948995</td>\n",
       "      <td>4.948995</td>\n",
       "      <td>4.948995</td>\n",
       "      <td>4.776776</td>\n",
       "      <td>4.776776</td>\n",
       "      <td>4.776776</td>\n",
       "      <td>0.172220</td>\n",
       "      <td>0.172220</td>\n",
       "      <td>0.172220</td>\n",
       "      <td>0.0</td>\n",
       "      <td>0.0</td>\n",
       "      <td>0.0</td>\n",
       "      <td>45.624787</td>\n",
       "      <td>NaN</td>\n",
       "    </tr>\n",
       "    <tr>\n",
       "      <th>529</th>\n",
       "      <td>2025-02-06 20:00:00</td>\n",
       "      <td>40.687818</td>\n",
       "      <td>42.417750</td>\n",
       "      <td>55.196814</td>\n",
       "      <td>40.680210</td>\n",
       "      <td>40.695635</td>\n",
       "      <td>8.062121</td>\n",
       "      <td>8.062121</td>\n",
       "      <td>8.062121</td>\n",
       "      <td>7.930023</td>\n",
       "      <td>7.930023</td>\n",
       "      <td>7.930023</td>\n",
       "      <td>0.132098</td>\n",
       "      <td>0.132098</td>\n",
       "      <td>0.132098</td>\n",
       "      <td>0.0</td>\n",
       "      <td>0.0</td>\n",
       "      <td>0.0</td>\n",
       "      <td>48.749939</td>\n",
       "      <td>NaN</td>\n",
       "    </tr>\n",
       "    <tr>\n",
       "      <th>530</th>\n",
       "      <td>2025-02-06 21:00:00</td>\n",
       "      <td>40.699845</td>\n",
       "      <td>43.962694</td>\n",
       "      <td>56.161685</td>\n",
       "      <td>40.692175</td>\n",
       "      <td>40.707747</td>\n",
       "      <td>9.302890</td>\n",
       "      <td>9.302890</td>\n",
       "      <td>9.302890</td>\n",
       "      <td>9.206047</td>\n",
       "      <td>9.206047</td>\n",
       "      <td>9.206047</td>\n",
       "      <td>0.096843</td>\n",
       "      <td>0.096843</td>\n",
       "      <td>0.096843</td>\n",
       "      <td>0.0</td>\n",
       "      <td>0.0</td>\n",
       "      <td>0.0</td>\n",
       "      <td>50.002735</td>\n",
       "      <td>NaN</td>\n",
       "    </tr>\n",
       "    <tr>\n",
       "      <th>531</th>\n",
       "      <td>2025-02-06 22:00:00</td>\n",
       "      <td>40.711871</td>\n",
       "      <td>43.467668</td>\n",
       "      <td>55.384324</td>\n",
       "      <td>40.704110</td>\n",
       "      <td>40.719866</td>\n",
       "      <td>8.557069</td>\n",
       "      <td>8.557069</td>\n",
       "      <td>8.557069</td>\n",
       "      <td>8.490327</td>\n",
       "      <td>8.490327</td>\n",
       "      <td>8.490327</td>\n",
       "      <td>0.066742</td>\n",
       "      <td>0.066742</td>\n",
       "      <td>0.066742</td>\n",
       "      <td>0.0</td>\n",
       "      <td>0.0</td>\n",
       "      <td>0.0</td>\n",
       "      <td>49.268940</td>\n",
       "      <td>NaN</td>\n",
       "    </tr>\n",
       "    <tr>\n",
       "      <th>532</th>\n",
       "      <td>2025-02-06 23:00:00</td>\n",
       "      <td>40.723897</td>\n",
       "      <td>41.889916</td>\n",
       "      <td>54.238984</td>\n",
       "      <td>40.716076</td>\n",
       "      <td>40.731992</td>\n",
       "      <td>7.277376</td>\n",
       "      <td>7.277376</td>\n",
       "      <td>7.277376</td>\n",
       "      <td>7.235339</td>\n",
       "      <td>7.235339</td>\n",
       "      <td>7.235339</td>\n",
       "      <td>0.042037</td>\n",
       "      <td>0.042037</td>\n",
       "      <td>0.042037</td>\n",
       "      <td>0.0</td>\n",
       "      <td>0.0</td>\n",
       "      <td>0.0</td>\n",
       "      <td>48.001274</td>\n",
       "      <td>NaN</td>\n",
       "    </tr>\n",
       "  </tbody>\n",
       "</table>\n",
       "</div>"
      ],
      "text/plain": [
       "                     ds      trend  yhat_lower  yhat_upper  trend_lower  \\\n",
       "528 2025-02-06 19:00:00  40.675792   38.952435   51.663678    40.668246   \n",
       "529 2025-02-06 20:00:00  40.687818   42.417750   55.196814    40.680210   \n",
       "530 2025-02-06 21:00:00  40.699845   43.962694   56.161685    40.692175   \n",
       "531 2025-02-06 22:00:00  40.711871   43.467668   55.384324    40.704110   \n",
       "532 2025-02-06 23:00:00  40.723897   41.889916   54.238984    40.716076   \n",
       "\n",
       "     trend_upper  additive_terms  additive_terms_lower  additive_terms_upper  \\\n",
       "528    40.683523        4.948995              4.948995              4.948995   \n",
       "529    40.695635        8.062121              8.062121              8.062121   \n",
       "530    40.707747        9.302890              9.302890              9.302890   \n",
       "531    40.719866        8.557069              8.557069              8.557069   \n",
       "532    40.731992        7.277376              7.277376              7.277376   \n",
       "\n",
       "        daily  daily_lower  daily_upper    weekly  weekly_lower  weekly_upper  \\\n",
       "528  4.776776     4.776776     4.776776  0.172220      0.172220      0.172220   \n",
       "529  7.930023     7.930023     7.930023  0.132098      0.132098      0.132098   \n",
       "530  9.206047     9.206047     9.206047  0.096843      0.096843      0.096843   \n",
       "531  8.490327     8.490327     8.490327  0.066742      0.066742      0.066742   \n",
       "532  7.235339     7.235339     7.235339  0.042037      0.042037      0.042037   \n",
       "\n",
       "     multiplicative_terms  multiplicative_terms_lower  \\\n",
       "528                   0.0                         0.0   \n",
       "529                   0.0                         0.0   \n",
       "530                   0.0                         0.0   \n",
       "531                   0.0                         0.0   \n",
       "532                   0.0                         0.0   \n",
       "\n",
       "     multiplicative_terms_upper       yhat   y  \n",
       "528                         0.0  45.624787 NaN  \n",
       "529                         0.0  48.749939 NaN  \n",
       "530                         0.0  50.002735 NaN  \n",
       "531                         0.0  49.268940 NaN  \n",
       "532                         0.0  48.001274 NaN  "
      ]
     },
     "execution_count": 99,
     "metadata": {},
     "output_type": "execute_result"
    }
   ],
   "source": [
    "df_063276ed.tail(5)"
   ]
  },
  {
   "cell_type": "markdown",
   "id": "341bec3f",
   "metadata": {},
   "source": [
    "El diccionario 'mae_scores' contiene los pares 'SensorId':'mae' (clave:valor).La lista 'all_maes' contiene solo los 'mae' correspondientes a los 40 modelos. Veamos un ejemplo."
   ]
  },
  {
   "cell_type": "code",
   "execution_count": 105,
   "id": "0838e63e",
   "metadata": {},
   "outputs": [
    {
     "name": "stdout",
     "output_type": "stream",
     "text": [
      "MAE for sensor '063276ed-657e-40a2-a17b-0c685af518f6': 3.753\n"
     ]
    }
   ],
   "source": [
    "print(f\"MAE for sensor '063276ed-657e-40a2-a17b-0c685af518f6': {mae_scores['063276ed-657e-40a2-a17b-0c685af518f6']:.3f}\")"
   ]
  },
  {
   "cell_type": "code",
   "execution_count": 106,
   "id": "353e3d00",
   "metadata": {},
   "outputs": [
    {
     "name": "stdout",
     "output_type": "stream",
     "text": [
      "MAE for model 0: 3.753\n"
     ]
    }
   ],
   "source": [
    "print(f\"MAE for model 0: {all_maes[0]:.3f}\")"
   ]
  },
  {
   "cell_type": "code",
   "execution_count": null,
   "id": "714bd54a",
   "metadata": {},
   "outputs": [],
   "source": [
    "# Line plot\n",
    "df_063276ed.plot(kind='line', x='ds', y='y', title=f'Time series for \"{sensor}\"',\n",
    "color='green', xlabel='Date', ylabel='Value', grid=True,\n",
    "figsize=(11, 3), rot=30)\n",
    "plt.show()"
   ]
  },
  {
   "cell_type": "code",
   "execution_count": null,
   "id": "36a0f7b3",
   "metadata": {},
   "outputs": [
    {
     "data": {
      "image/png": "[encoded data removed]",
      "text/plain": [
       "<Figure size 1500x500 with 1 Axes>"
      ]
     },
     "metadata": {},
     "output_type": "display_data"
    }
   ],
   "source": [
    "# Multiple Line plots\n",
    "plt.figure(figsize = (12,5))\n",
    "plt.plot(df_063276ed['ds'], df_063276ed['y'], color='green', linestyle='-')\n",
    "plt.plot(df_063276ed['ds'], df_063276ed['yhat'], color='magenta')\n",
    "plt.title('Real and estimate values')\n",
    "plt.legend(['y','y_predict'])\n",
    "plt.xlabel('Date')\n",
    "plt.xticks(rotation=45)\n",
    "plt.ylabel('Value')\n",
    "plt.show()"
   ]
  },
  {
   "cell_type": "markdown",
   "id": "be2140de",
   "metadata": {},
   "source": [
    "Las graficas correspondientes a los demas modelos se guardaron en: '../data/processed/prophet_forecasts'."
   ]
  }
 ],
 "metadata": {
  "kernelspec": {
   "display_name": "env (3.8.10)",
   "language": "python",
   "name": "python3"
  },
  "language_info": {
   "codemirror_mode": {
    "name": "ipython",
    "version": 3
   },
   "file_extension": ".py",
   "mimetype": "text/x-python",
   "name": "python",
   "nbconvert_exporter": "python",
   "pygments_lexer": "ipython3",
   "version": "3.8.10"
  }
 },
 "nbformat": 4,
 "nbformat_minor": 5
}
