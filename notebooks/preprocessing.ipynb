{
 "cells": [
  {
   "cell_type": "markdown",
   "id": "7fbde7b0",
   "metadata": {},
   "source": [
    "# Preprocesamiento de los datos"
   ]
  },
  {
   "cell_type": "code",
   "execution_count": null,
   "id": "39527afa",
   "metadata": {},
   "outputs": [],
   "source": [
    "# Import libraries\n",
    "import pandas as pd\n",
    "import numpy as np\n",
    "from matplotlib import pyplot as plt\n",
    "#from scipy import stats as stats\n",
    "import seaborn as sns\n",
    "from datetime import datetime, timedelta\n",
    "import os"
   ]
  },
  {
   "cell_type": "markdown",
   "id": "86daee86",
   "metadata": {},
   "source": [
    "## Lectura y union de los archivos *.parquet"
   ]
  },
  {
   "cell_type": "code",
   "execution_count": null,
   "id": "560f1185",
   "metadata": {},
   "outputs": [],
   "source": [
    "path = '../data/raw/Lecturas_Eneero_2025'\n",
    "content = os.listdir(path)\n",
    "files = []\n",
    "no_empty = []\n",
    "# Create DataFrame\n",
    "df = pd.DataFrame(\n",
    "{\n",
    "    'ReadId': [],\n",
    "    'TimeSpan': [],\n",
    "    'SensorId': [],\n",
    "    'Value': [],\n",
    "    'LocalTimeSpan': [],\n",
    "})\n",
    "\n",
    "for folder in content:\n",
    "    if folder.endswith(''):\n",
    "        path_files = os.path.join(path,folder)\n",
    "        for file in os.listdir(path_files):\n",
    "            if file.endswith('parquet'):\n",
    "                files.append(file)\n",
    "                try:\n",
    "                    df_1 = pd.read_parquet(os.path.join(path_files,file))\n",
    "                    df = pd.concat([df,df_1])\n",
    "                    no_empty.append(file)\n",
    "                except OSError:\n",
    "                    pass\n",
    "\n",
    "df = df.reset_index(drop=True)        \n",
    "print(f\"Total files *.parquet found: {len(files)}, Total non-empty files: {len(no_empty)}\")"
   ]
  },
  {
   "cell_type": "markdown",
   "id": "b7dc53f9",
   "metadata": {},
   "source": [
    "## Analisis exploratorio de los datos\n",
    "### Lecturas"
   ]
  },
  {
   "cell_type": "code",
   "execution_count": null,
   "id": "c54c3269",
   "metadata": {},
   "outputs": [
    {
     "name": "stdout",
     "output_type": "stream",
     "text": [
      "<class 'pandas.core.frame.DataFrame'>\n",
      "RangeIndex: 165411 entries, 0 to 165410\n",
      "Data columns (total 5 columns):\n",
      " #   Column         Non-Null Count   Dtype         \n",
      "---  ------         --------------   -----         \n",
      " 0   ReadId         165411 non-null  object        \n",
      " 1   TimeSpan       165411 non-null  datetime64[ns]\n",
      " 2   SensorId       165411 non-null  object        \n",
      " 3   Value          165411 non-null  float64       \n",
      " 4   LocalTimeSpan  165411 non-null  datetime64[ns]\n",
      "dtypes: datetime64[ns](2), float64(1), object(2)\n",
      "memory usage: 6.3+ MB\n"
     ]
    }
   ],
   "source": [
    "# DataFrame information\n",
    "df.info()"
   ]
  },
  {
   "cell_type": "code",
   "execution_count": 88,
   "id": "b759bb3e",
   "metadata": {},
   "outputs": [
    {
     "name": "stdout",
     "output_type": "stream",
     "text": [
      "ReadId           0\n",
      "TimeSpan         0\n",
      "SensorId         0\n",
      "Value            0\n",
      "LocalTimeSpan    0\n",
      "dtype: int64\n"
     ]
    }
   ],
   "source": [
    "# Verify null values per column\n",
    "print(df.isna().sum())"
   ]
  },
  {
   "cell_type": "markdown",
   "id": "62ea50fb",
   "metadata": {},
   "source": [
    "No hay valores ausentes y las columnas tienen el formato adecuado."
   ]
  },
  {
   "cell_type": "code",
   "execution_count": 90,
   "id": "694e950f",
   "metadata": {},
   "outputs": [
    {
     "data": {
      "text/html": [
       "<div>\n",
       "<style scoped>\n",
       "    .dataframe tbody tr th:only-of-type {\n",
       "        vertical-align: middle;\n",
       "    }\n",
       "\n",
       "    .dataframe tbody tr th {\n",
       "        vertical-align: top;\n",
       "    }\n",
       "\n",
       "    .dataframe thead th {\n",
       "        text-align: right;\n",
       "    }\n",
       "</style>\n",
       "<table border=\"1\" class=\"dataframe\">\n",
       "  <thead>\n",
       "    <tr style=\"text-align: right;\">\n",
       "      <th></th>\n",
       "      <th>ReadId</th>\n",
       "      <th>TimeSpan</th>\n",
       "      <th>SensorId</th>\n",
       "      <th>Value</th>\n",
       "      <th>LocalTimeSpan</th>\n",
       "    </tr>\n",
       "  </thead>\n",
       "  <tbody>\n",
       "    <tr>\n",
       "      <th>0</th>\n",
       "      <td>05543cf3-ec51-4760-a9af-8efa01a203e6</td>\n",
       "      <td>2025-01-18 13:48:44.190</td>\n",
       "      <td>063276ed-657e-40a2-a17b-0c685af518f6</td>\n",
       "      <td>31.20</td>\n",
       "      <td>2025-01-18 07:48:44.190</td>\n",
       "    </tr>\n",
       "    <tr>\n",
       "      <th>1</th>\n",
       "      <td>a3c80788-c698-41cc-835f-aedd98adb72c</td>\n",
       "      <td>2025-01-18 13:48:44.195</td>\n",
       "      <td>22f8b472-4022-41a9-b7b7-37e83a532df0</td>\n",
       "      <td>35.55</td>\n",
       "      <td>2025-01-18 07:48:44.195</td>\n",
       "    </tr>\n",
       "    <tr>\n",
       "      <th>2</th>\n",
       "      <td>4e223d79-4791-4c2a-9d88-97c8efa170bc</td>\n",
       "      <td>2025-01-18 13:48:44.199</td>\n",
       "      <td>267e3d44-9b7f-460c-b34b-603fe0fa9972</td>\n",
       "      <td>36.90</td>\n",
       "      <td>2025-01-18 07:48:44.199</td>\n",
       "    </tr>\n",
       "    <tr>\n",
       "      <th>3</th>\n",
       "      <td>1cc74f1d-89bf-47d0-81a9-4de727f9f1e4</td>\n",
       "      <td>2025-01-18 13:48:44.202</td>\n",
       "      <td>8139d3c7-5a4c-40d3-b3a6-8db4da769001</td>\n",
       "      <td>41.55</td>\n",
       "      <td>2025-01-18 07:48:44.202</td>\n",
       "    </tr>\n",
       "    <tr>\n",
       "      <th>4</th>\n",
       "      <td>29cc45c7-eed9-4901-8fe1-1423c043d289</td>\n",
       "      <td>2025-01-18 13:48:44.206</td>\n",
       "      <td>d080f284-c51f-4a48-a4d7-b7acec0672ba</td>\n",
       "      <td>36.30</td>\n",
       "      <td>2025-01-18 07:48:44.206</td>\n",
       "    </tr>\n",
       "  </tbody>\n",
       "</table>\n",
       "</div>"
      ],
      "text/plain": [
       "                                 ReadId                TimeSpan  \\\n",
       "0  05543cf3-ec51-4760-a9af-8efa01a203e6 2025-01-18 13:48:44.190   \n",
       "1  a3c80788-c698-41cc-835f-aedd98adb72c 2025-01-18 13:48:44.195   \n",
       "2  4e223d79-4791-4c2a-9d88-97c8efa170bc 2025-01-18 13:48:44.199   \n",
       "3  1cc74f1d-89bf-47d0-81a9-4de727f9f1e4 2025-01-18 13:48:44.202   \n",
       "4  29cc45c7-eed9-4901-8fe1-1423c043d289 2025-01-18 13:48:44.206   \n",
       "\n",
       "                               SensorId  Value           LocalTimeSpan  \n",
       "0  063276ed-657e-40a2-a17b-0c685af518f6  31.20 2025-01-18 07:48:44.190  \n",
       "1  22f8b472-4022-41a9-b7b7-37e83a532df0  35.55 2025-01-18 07:48:44.195  \n",
       "2  267e3d44-9b7f-460c-b34b-603fe0fa9972  36.90 2025-01-18 07:48:44.199  \n",
       "3  8139d3c7-5a4c-40d3-b3a6-8db4da769001  41.55 2025-01-18 07:48:44.202  \n",
       "4  d080f284-c51f-4a48-a4d7-b7acec0672ba  36.30 2025-01-18 07:48:44.206  "
      ]
     },
     "execution_count": 90,
     "metadata": {},
     "output_type": "execute_result"
    }
   ],
   "source": [
    "# Show DataFrame\n",
    "df.head(5)"
   ]
  },
  {
   "cell_type": "markdown",
   "id": "e446d3d5",
   "metadata": {},
   "source": [
    "Parece que las columnas 'TimeSpan' y 'LocalTimeSpan' solo varian por unas horas, es decir, es la misma informacion."
   ]
  },
  {
   "cell_type": "code",
   "execution_count": null,
   "metadata": {},
   "outputs": [
    {
     "data": {
      "text/plain": [
       "0   0 days 06:00:00\n",
       "1   0 days 06:00:00\n",
       "2   0 days 06:00:00\n",
       "3   0 days 06:00:00\n",
       "4   0 days 06:00:00\n",
       "dtype: timedelta64[ns]"
      ]
     },
     "execution_count": 92,
     "metadata": {},
     "output_type": "execute_result"
    }
   ],
   "source": [
    "# Verify time difference in columns\n",
    "delta_col = df['TimeSpan']-df['LocalTimeSpan']\n",
    "delta_col.head(5)"
   ]
  },
  {
   "cell_type": "markdown",
   "id": "9c4d0ab7",
   "metadata": {},
   "source": [
    "Veamos cuantos valores diferentes hay en las columnas 'ReadId' y 'SensorId'."
   ]
  },
  {
   "cell_type": "code",
   "execution_count": 94,
   "metadata": {},
   "outputs": [
    {
     "name": "stdout",
     "output_type": "stream",
     "text": [
      "165407\n"
     ]
    }
   ],
   "source": [
    "# Count unique values\n",
    "print(df['ReadId'].nunique())"
   ]
  },
  {
   "cell_type": "code",
   "execution_count": 95,
   "metadata": {},
   "outputs": [
    {
     "name": "stdout",
     "output_type": "stream",
     "text": [
      "40\n"
     ]
    }
   ],
   "source": [
    "# Count unique values\n",
    "print(df['SensorId'].nunique())"
   ]
  },
  {
   "cell_type": "code",
   "execution_count": null,
   "id": "3d08401f",
   "metadata": {},
   "outputs": [],
   "source": []
  },
  {
   "cell_type": "code",
   "execution_count": null,
   "metadata": {},
   "outputs": [],
   "source": []
  },
  {
   "cell_type": "code",
   "execution_count": null,
   "metadata": {},
   "outputs": [],
   "source": []
  },
  {
   "cell_type": "code",
   "execution_count": null,
   "metadata": {},
   "outputs": [],
   "source": []
  },
  {
   "cell_type": "markdown",
   "id": "c6132795",
   "metadata": {},
   "source": [
    "### Tablas"
   ]
  },
  {
   "cell_type": "code",
   "execution_count": null,
   "id": "f1d0d631",
   "metadata": {},
   "outputs": [],
   "source": [
    "# Read DataFrame\n",
    "df_cities = pd.read_csv('../data/raw/dimCities.csv',sep=',',header=0)\n",
    "\n",
    "# Show DataFrame\n",
    "df_cities.head(2)"
   ]
  },
  {
   "cell_type": "code",
   "execution_count": null,
   "id": "4f811fa0",
   "metadata": {},
   "outputs": [],
   "source": [
    "# Read DataFrame\n",
    "df_devices = pd.read_csv('../data/raw/dimDevices.csv',sep=',',header=0)\n",
    "\n",
    "# Show DataFrame\n",
    "df_devices.head(2)"
   ]
  },
  {
   "cell_type": "code",
   "execution_count": null,
   "id": "43f75989",
   "metadata": {},
   "outputs": [],
   "source": [
    "# Read DataFrame\n",
    "df_locations = pd.read_csv('../data/raw/dimLocations.csv',sep=',',header=0)\n",
    "\n",
    "# Show DataFrame\n",
    "df_locations.head(2)"
   ]
  },
  {
   "cell_type": "code",
   "execution_count": null,
   "id": "e48fe908",
   "metadata": {},
   "outputs": [],
   "source": [
    "# Read DataFrame\n",
    "df_sensors = pd.read_csv('../data/raw/dimSensors.csv',sep=',',header=0)\n",
    "\n",
    "# Show DataFrame\n",
    "df_sensors.head(2)"
   ]
  },
  {
   "cell_type": "code",
   "execution_count": null,
   "id": "c4e1fde6",
   "metadata": {},
   "outputs": [],
   "source": [
    "# Read DataFrame\n",
    "df_sublocations = pd.read_csv('../data/raw/dimSublocations.csv',sep=',',header=0)\n",
    "\n",
    "# Show DataFrame\n",
    "df_sublocations.head(2)"
   ]
  },
  {
   "cell_type": "code",
   "execution_count": null,
   "id": "e7f52fba",
   "metadata": {},
   "outputs": [],
   "source": [
    "# Read DataFrame\n",
    "df_unidades = pd.read_csv('../data/raw/dimUnidades.csv',sep=',',header=0)\n",
    "\n",
    "# Show DataFrame\n",
    "df_unidades.head(2)"
   ]
  },
  {
   "cell_type": "code",
   "execution_count": null,
   "id": "8b23e4b6",
   "metadata": {},
   "outputs": [],
   "source": []
  }
 ],
 "metadata": {
  "kernelspec": {
   "display_name": "env (3.8.10)",
   "language": "python",
   "name": "python3"
  },
  "language_info": {
   "codemirror_mode": {
    "name": "ipython",
    "version": 3
   },
   "file_extension": ".py",
   "mimetype": "text/x-python",
   "name": "python",
   "nbconvert_exporter": "python",
   "pygments_lexer": "ipython3",
   "version": "3.8.10"
  }
 },
 "nbformat": 4,
 "nbformat_minor": 5
}
